{
 "cells": [
  {
   "cell_type": "code",
   "execution_count": 5,
   "id": "f477c2c6",
   "metadata": {},
   "outputs": [],
   "source": [
    "import polars as pl\n",
    "from pathlib import Path\n",
    "\n",
    "rootdir = Path.cwd().parent.parent\n",
    "from onchaindata.utils.postgres_client import PostgresClient\n",
    "from onchaindata.utils.snowflake_client import SnowflakeClient\n",
    "# client = PostgresClient().from_env()\n",
    "client = SnowflakeClient().from_env()"
   ]
  },
  {
   "cell_type": "code",
   "execution_count": 9,
   "id": "b17f4f66",
   "metadata": {},
   "outputs": [
    {
     "data": {
      "text/html": [
       "<div><style>\n",
       ".dataframe > thead > tr,\n",
       ".dataframe > tbody > tr {\n",
       "  text-align: right;\n",
       "  white-space: pre-wrap;\n",
       "}\n",
       "</style>\n",
       "<small>shape: (5, 9)</small><table border=\"1\" class=\"dataframe\"><thead><tr><th>ID</th><th>BLOCK_NUMBER</th><th>TIMESTAMP</th><th>CONTRACT_ADDRESS</th><th>FROM</th><th>TO</th><th>VALUE</th><th>_DLT_LOAD_ID</th><th>_DLT_ID</th></tr><tr><td>str</td><td>str</td><td>str</td><td>str</td><td>str</td><td>str</td><td>str</td><td>str</td><td>str</td></tr></thead><tbody><tr><td>&quot;0x8420ba1c3afb4832118e171d7f40…</td><td>&quot;23652327&quot;</td><td>&quot;1761369347&quot;</td><td>&quot;0x40d16fc0246ad3160ccc09b8d0d3…</td><td>&quot;0x6e4141d33021b52c91c28608403d…</td><td>&quot;0x670a72e6d22b0956c0d2573288f8…</td><td>&quot;2436826850585136738608&quot;</td><td>&quot;1761458052.515147&quot;</td><td>&quot;7I5bBTLb+6n3Zg&quot;</td></tr><tr><td>&quot;0x8420ba1c3afb4832118e171d7f40…</td><td>&quot;23652327&quot;</td><td>&quot;1761369347&quot;</td><td>&quot;0x40d16fc0246ad3160ccc09b8d0d3…</td><td>&quot;0x8a4f252812dff2a8636e4f7eb249…</td><td>&quot;0x6e4141d33021b52c91c28608403d…</td><td>&quot;2436826850585136738609&quot;</td><td>&quot;1761458052.515147&quot;</td><td>&quot;VSLdtE2kCOsDtw&quot;</td></tr><tr><td>&quot;0x86a18cde29def9b368c9e0dc7299…</td><td>&quot;23652326&quot;</td><td>&quot;1761369335&quot;</td><td>&quot;0xf939e0a03fb07f59a73314e73794…</td><td>&quot;0x4ebdf703948ddcea3b11f675b4d1…</td><td>&quot;0x6e4141d33021b52c91c28608403d…</td><td>&quot;1441971118159672412535&quot;</td><td>&quot;1761458052.515147&quot;</td><td>&quot;+sPXFZsSw7r5kQ&quot;</td></tr><tr><td>&quot;0x86a18cde29def9b368c9e0dc7299…</td><td>&quot;23652326&quot;</td><td>&quot;1761369335&quot;</td><td>&quot;0xf939e0a03fb07f59a73314e73794…</td><td>&quot;0x6e4141d33021b52c91c28608403d…</td><td>&quot;0xf55b0f6f2da5ffddb104b58a60f2…</td><td>&quot;1441971118159672412534&quot;</td><td>&quot;1761458052.515147&quot;</td><td>&quot;FRNt6GrWjKdVgw&quot;</td></tr><tr><td>&quot;0x4593d7cc2d2333d1f974612af01c…</td><td>&quot;23652325&quot;</td><td>&quot;1761369323&quot;</td><td>&quot;0xf939e0a03fb07f59a73314e73794…</td><td>&quot;0x0655977feb2f289a4ab78af67bab…</td><td>&quot;0x6e4141d33021b52c91c28608403d…</td><td>&quot;1162007693615297368687&quot;</td><td>&quot;1761458052.515147&quot;</td><td>&quot;cS+yHJHjBoxOpg&quot;</td></tr></tbody></table></div>"
      ],
      "text/plain": [
       "shape: (5, 9)\n",
       "┌───────────┬───────────┬───────────┬───────────┬───┬───────────┬───────────┬───────────┬──────────┐\n",
       "│ ID        ┆ BLOCK_NUM ┆ TIMESTAMP ┆ CONTRACT_ ┆ … ┆ TO        ┆ VALUE     ┆ _DLT_LOAD ┆ _DLT_ID  │\n",
       "│ ---       ┆ BER       ┆ ---       ┆ ADDRESS   ┆   ┆ ---       ┆ ---       ┆ _ID       ┆ ---      │\n",
       "│ str       ┆ ---       ┆ str       ┆ ---       ┆   ┆ str       ┆ str       ┆ ---       ┆ str      │\n",
       "│           ┆ str       ┆           ┆ str       ┆   ┆           ┆           ┆ str       ┆          │\n",
       "╞═══════════╪═══════════╪═══════════╪═══════════╪═══╪═══════════╪═══════════╪═══════════╪══════════╡\n",
       "│ 0x8420ba1 ┆ 23652327  ┆ 176136934 ┆ 0x40d16fc ┆ … ┆ 0x670a72e ┆ 243682685 ┆ 176145805 ┆ 7I5bBTLb │\n",
       "│ c3afb4832 ┆           ┆ 7         ┆ 0246ad316 ┆   ┆ 6d22b0956 ┆ 058513673 ┆ 2.515147  ┆ +6n3Zg   │\n",
       "│ 118e171d7 ┆           ┆           ┆ 0ccc09b8d ┆   ┆ c0d257328 ┆ 8608      ┆           ┆          │\n",
       "│ f40…      ┆           ┆           ┆ 0d3…      ┆   ┆ 8f8…      ┆           ┆           ┆          │\n",
       "│ 0x8420ba1 ┆ 23652327  ┆ 176136934 ┆ 0x40d16fc ┆ … ┆ 0x6e4141d ┆ 243682685 ┆ 176145805 ┆ VSLdtE2k │\n",
       "│ c3afb4832 ┆           ┆ 7         ┆ 0246ad316 ┆   ┆ 33021b52c ┆ 058513673 ┆ 2.515147  ┆ COsDtw   │\n",
       "│ 118e171d7 ┆           ┆           ┆ 0ccc09b8d ┆   ┆ 91c286084 ┆ 8609      ┆           ┆          │\n",
       "│ f40…      ┆           ┆           ┆ 0d3…      ┆   ┆ 03d…      ┆           ┆           ┆          │\n",
       "│ 0x86a18cd ┆ 23652326  ┆ 176136933 ┆ 0xf939e0a ┆ … ┆ 0x6e4141d ┆ 144197111 ┆ 176145805 ┆ +sPXFZsS │\n",
       "│ e29def9b3 ┆           ┆ 5         ┆ 03fb07f59 ┆   ┆ 33021b52c ┆ 815967241 ┆ 2.515147  ┆ w7r5kQ   │\n",
       "│ 68c9e0dc7 ┆           ┆           ┆ a73314e73 ┆   ┆ 91c286084 ┆ 2535      ┆           ┆          │\n",
       "│ 299…      ┆           ┆           ┆ 794…      ┆   ┆ 03d…      ┆           ┆           ┆          │\n",
       "│ 0x86a18cd ┆ 23652326  ┆ 176136933 ┆ 0xf939e0a ┆ … ┆ 0xf55b0f6 ┆ 144197111 ┆ 176145805 ┆ FRNt6GrW │\n",
       "│ e29def9b3 ┆           ┆ 5         ┆ 03fb07f59 ┆   ┆ f2da5ffdd ┆ 815967241 ┆ 2.515147  ┆ jKdVgw   │\n",
       "│ 68c9e0dc7 ┆           ┆           ┆ a73314e73 ┆   ┆ b104b58a6 ┆ 2534      ┆           ┆          │\n",
       "│ 299…      ┆           ┆           ┆ 794…      ┆   ┆ 0f2…      ┆           ┆           ┆          │\n",
       "│ 0x4593d7c ┆ 23652325  ┆ 176136932 ┆ 0xf939e0a ┆ … ┆ 0x6e4141d ┆ 116200769 ┆ 176145805 ┆ cS+yHJHj │\n",
       "│ c2d2333d1 ┆           ┆ 3         ┆ 03fb07f59 ┆   ┆ 33021b52c ┆ 361529736 ┆ 2.515147  ┆ BoxOpg   │\n",
       "│ f974612af ┆           ┆           ┆ a73314e73 ┆   ┆ 91c286084 ┆ 8687      ┆           ┆          │\n",
       "│ 01c…      ┆           ┆           ┆ 794…      ┆   ┆ 03d…      ┆           ┆           ┆          │\n",
       "└───────────┴───────────┴───────────┴───────────┴───┴───────────┴───────────┴───────────┴──────────┘"
      ]
     },
     "execution_count": 9,
     "metadata": {},
     "output_type": "execute_result"
    }
   ],
   "source": [
    "query = \"\"\"\n",
    "SELECT DISTINCT address\n",
    "FROM (\n",
    "    SELECT \"from\" AS address\n",
    "    FROM demo.transfers\n",
    "    UNION ALL\n",
    "    SELECT \"to\" AS address\n",
    "    FROM demo.transfers\n",
    ") combined\n",
    "WHERE address IS NOT NULL\n",
    "ORDER BY address;\n",
    "\"\"\"\n",
    "query = \"\"\"\n",
    "SELECT * FROM demo.transfers\n",
    "LIMIT 10\n",
    "\"\"\"\n",
    "\n",
    "with client.get_connection() as conn:\n",
    "    df = pl.read_database(connection=conn, query=query)\n",
    "\n",
    "df.head()\n",
    "# df.head().write_csv(rootdir / \".data\" / \"addresses_head.csv\")"
   ]
  },
  {
   "cell_type": "code",
   "execution_count": null,
   "id": "2cab1de2",
   "metadata": {},
   "outputs": [],
   "source": []
  }
 ],
 "metadata": {
  "kernelspec": {
   "display_name": ".venv",
   "language": "python",
   "name": "python3"
  },
  "language_info": {
   "codemirror_mode": {
    "name": "ipython",
    "version": 3
   },
   "file_extension": ".py",
   "mimetype": "text/x-python",
   "name": "python",
   "nbconvert_exporter": "python",
   "pygments_lexer": "ipython3",
   "version": "3.11.7"
  }
 },
 "nbformat": 4,
 "nbformat_minor": 5
}
