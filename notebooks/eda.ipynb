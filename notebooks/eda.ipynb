{
 "cells": [
  {
   "cell_type": "code",
   "execution_count": 1,
   "id": "f477c2c6",
   "metadata": {},
   "outputs": [],
   "source": [
    "import polars as pl\n",
    "from pathlib import Path\n",
    "\n",
    "rootdir = Path.cwd().parent"
   ]
  },
  {
   "cell_type": "code",
   "execution_count": 2,
   "id": "17cf7937",
   "metadata": {},
   "outputs": [],
   "source": [
    "file_path = rootdir / '.data/raw/stables_transfer.parquet'\n",
    "\n",
    "df = pl.read_parquet(file_path)\n",
    "df.head(33).write_parquet(rootdir / 'sampledata/transactions_tiny.parquet')"
   ]
  },
  {
   "cell_type": "code",
   "execution_count": 3,
   "id": "a8737ba0",
   "metadata": {},
   "outputs": [
    {
     "data": {
      "text/html": [
       "<div><style>\n",
       ".dataframe > thead > tr,\n",
       ".dataframe > tbody > tr {\n",
       "  text-align: right;\n",
       "  white-space: pre-wrap;\n",
       "}\n",
       "</style>\n",
       "<small>shape: (22_573, 7)</small><table border=\"1\" class=\"dataframe\"><thead><tr><th>id</th><th>blockNumber</th><th>timestamp</th><th>contractAddress</th><th>from</th><th>to</th><th>value</th></tr><tr><td>str</td><td>str</td><td>str</td><td>str</td><td>str</td><td>str</td><td>str</td></tr></thead><tbody><tr><td>&quot;0x4531324918f4c0e0e866a07a932d…</td><td>&quot;23588762&quot;</td><td>&quot;1760599931&quot;</td><td>&quot;0xf939e0a03fb07f59a73314e73794…</td><td>&quot;0x94cc50e4521bd271c1a997a3a4dc…</td><td>&quot;0x06cff7088619c7178f5e14f0b119…</td><td>&quot;316180211281867041143&quot;</td></tr><tr><td>&quot;0x4531324918f4c0e0e866a07a932d…</td><td>&quot;23588762&quot;</td><td>&quot;1760599931&quot;</td><td>&quot;0xf939e0a03fb07f59a73314e73794…</td><td>&quot;0x06cff7088619c7178f5e14f0b119…</td><td>&quot;0x4dece678ceceb27446b35c672dc7…</td><td>&quot;316180211281867041142&quot;</td></tr><tr><td>&quot;0x25b2684ae30bb791df57b7baa3ca…</td><td>&quot;23588759&quot;</td><td>&quot;1760599895&quot;</td><td>&quot;0xf939e0a03fb07f59a73314e73794…</td><td>&quot;0x6e4141d33021b52c91c28608403d…</td><td>&quot;0xf55b0f6f2da5ffddb104b58a60f2…</td><td>&quot;393402704429715161361&quot;</td></tr><tr><td>&quot;0xeb4cb095a7d2f97fc7931e6ccd9f…</td><td>&quot;23588759&quot;</td><td>&quot;1760599895&quot;</td><td>&quot;0xf939e0a03fb07f59a73314e73794…</td><td>&quot;0xb0faabe84076c6330a9642a6400e…</td><td>&quot;0x2b513ebe7070cff91cf699a0bfe5…</td><td>&quot;83332254807795011368&quot;</td></tr><tr><td>&quot;0xeb4cb095a7d2f97fc7931e6ccd9f…</td><td>&quot;23588759&quot;</td><td>&quot;1760599895&quot;</td><td>&quot;0xf939e0a03fb07f59a73314e73794…</td><td>&quot;0xf1f435b05d255a5dbde37333c0f6…</td><td>&quot;0x2b513ebe7070cff91cf699a0bfe5…</td><td>&quot;95226878645396598827&quot;</td></tr><tr><td>&hellip;</td><td>&hellip;</td><td>&hellip;</td><td>&hellip;</td><td>&hellip;</td><td>&hellip;</td><td>&hellip;</td></tr><tr><td>&quot;0x8284fe2ace78ced208cdb5b5fa93…</td><td>&quot;23580004&quot;</td><td>&quot;1760493947&quot;</td><td>&quot;0xf939e0a03fb07f59a73314e73794…</td><td>&quot;0x50d3865a63d52c0a54e467994964…</td><td>&quot;0x4ebdf703948ddcea3b11f675b4d1…</td><td>&quot;1754278113988923012309&quot;</td></tr><tr><td>&quot;0x8284fe2ace78ced208cdb5b5fa93…</td><td>&quot;23580004&quot;</td><td>&quot;1760493947&quot;</td><td>&quot;0xf939e0a03fb07f59a73314e73794…</td><td>&quot;0xe0e0e08a6a4b9dc7bd67bcb7aade…</td><td>&quot;0x50d3865a63d52c0a54e467994964…</td><td>&quot;1754278113988923012309&quot;</td></tr><tr><td>&quot;0x8284fe2ace78ced208cdb5b5fa93…</td><td>&quot;23580004&quot;</td><td>&quot;1760493947&quot;</td><td>&quot;0x40d16fc0246ad3160ccc09b8d0d3…</td><td>&quot;0x50d3865a63d52c0a54e467994964…</td><td>&quot;0x8a4f252812dff2a8636e4f7eb249…</td><td>&quot;1752183644476661164473&quot;</td></tr><tr><td>&quot;0x8a965800be4b3a3611012cb48b41…</td><td>&quot;23580001&quot;</td><td>&quot;1760493911&quot;</td><td>&quot;0xf939e0a03fb07f59a73314e73794…</td><td>&quot;0x1f2f10d1c40777ae1da742455c65…</td><td>&quot;0x4ebdf703948ddcea3b11f675b4d1…</td><td>&quot;834748903451609006080&quot;</td></tr><tr><td>&quot;0x8a965800be4b3a3611012cb48b41…</td><td>&quot;23580001&quot;</td><td>&quot;1760493911&quot;</td><td>&quot;0xf939e0a03fb07f59a73314e73794…</td><td>&quot;0xe0e0e08a6a4b9dc7bd67bcb7aade…</td><td>&quot;0x1f2f10d1c40777ae1da742455c65…</td><td>&quot;834748905595571498063&quot;</td></tr></tbody></table></div>"
      ],
      "text/plain": [
       "shape: (22_573, 7)\n",
       "┌──────────────┬─────────────┬────────────┬──────────────┬─────────────┬─────────────┬─────────────┐\n",
       "│ id           ┆ blockNumber ┆ timestamp  ┆ contractAddr ┆ from        ┆ to          ┆ value       │\n",
       "│ ---          ┆ ---         ┆ ---        ┆ ess          ┆ ---         ┆ ---         ┆ ---         │\n",
       "│ str          ┆ str         ┆ str        ┆ ---          ┆ str         ┆ str         ┆ str         │\n",
       "│              ┆             ┆            ┆ str          ┆             ┆             ┆             │\n",
       "╞══════════════╪═════════════╪════════════╪══════════════╪═════════════╪═════════════╪═════════════╡\n",
       "│ 0x4531324918 ┆ 23588762    ┆ 1760599931 ┆ 0xf939e0a03f ┆ 0x94cc50e45 ┆ 0x06cff7088 ┆ 31618021128 │\n",
       "│ f4c0e0e866a0 ┆             ┆            ┆ b07f59a73314 ┆ 21bd271c1a9 ┆ 619c7178f5e ┆ 1867041143  │\n",
       "│ 7a932d…      ┆             ┆            ┆ e73794…      ┆ 97a3a4dc…   ┆ 14f0b119…   ┆             │\n",
       "│ 0x4531324918 ┆ 23588762    ┆ 1760599931 ┆ 0xf939e0a03f ┆ 0x06cff7088 ┆ 0x4dece678c ┆ 31618021128 │\n",
       "│ f4c0e0e866a0 ┆             ┆            ┆ b07f59a73314 ┆ 619c7178f5e ┆ eceb27446b3 ┆ 1867041142  │\n",
       "│ 7a932d…      ┆             ┆            ┆ e73794…      ┆ 14f0b119…   ┆ 5c672dc7…   ┆             │\n",
       "│ 0x25b2684ae3 ┆ 23588759    ┆ 1760599895 ┆ 0xf939e0a03f ┆ 0x6e4141d33 ┆ 0xf55b0f6f2 ┆ 39340270442 │\n",
       "│ 0bb791df57b7 ┆             ┆            ┆ b07f59a73314 ┆ 021b52c91c2 ┆ da5ffddb104 ┆ 9715161361  │\n",
       "│ baa3ca…      ┆             ┆            ┆ e73794…      ┆ 8608403d…   ┆ b58a60f2…   ┆             │\n",
       "│ 0xeb4cb095a7 ┆ 23588759    ┆ 1760599895 ┆ 0xf939e0a03f ┆ 0xb0faabe84 ┆ 0x2b513ebe7 ┆ 83332254807 │\n",
       "│ d2f97fc7931e ┆             ┆            ┆ b07f59a73314 ┆ 076c6330a96 ┆ 070cff91cf6 ┆ 795011368   │\n",
       "│ 6ccd9f…      ┆             ┆            ┆ e73794…      ┆ 42a6400e…   ┆ 99a0bfe5…   ┆             │\n",
       "│ 0xeb4cb095a7 ┆ 23588759    ┆ 1760599895 ┆ 0xf939e0a03f ┆ 0xf1f435b05 ┆ 0x2b513ebe7 ┆ 95226878645 │\n",
       "│ d2f97fc7931e ┆             ┆            ┆ b07f59a73314 ┆ d255a5dbde3 ┆ 070cff91cf6 ┆ 396598827   │\n",
       "│ 6ccd9f…      ┆             ┆            ┆ e73794…      ┆ 7333c0f6…   ┆ 99a0bfe5…   ┆             │\n",
       "│ …            ┆ …           ┆ …          ┆ …            ┆ …           ┆ …           ┆ …           │\n",
       "│ 0x8284fe2ace ┆ 23580004    ┆ 1760493947 ┆ 0xf939e0a03f ┆ 0x50d3865a6 ┆ 0x4ebdf7039 ┆ 17542781139 │\n",
       "│ 78ced208cdb5 ┆             ┆            ┆ b07f59a73314 ┆ 3d52c0a54e4 ┆ 48ddcea3b11 ┆ 88923012309 │\n",
       "│ b5fa93…      ┆             ┆            ┆ e73794…      ┆ 67994964…   ┆ f675b4d1…   ┆             │\n",
       "│ 0x8284fe2ace ┆ 23580004    ┆ 1760493947 ┆ 0xf939e0a03f ┆ 0xe0e0e08a6 ┆ 0x50d3865a6 ┆ 17542781139 │\n",
       "│ 78ced208cdb5 ┆             ┆            ┆ b07f59a73314 ┆ a4b9dc7bd67 ┆ 3d52c0a54e4 ┆ 88923012309 │\n",
       "│ b5fa93…      ┆             ┆            ┆ e73794…      ┆ bcb7aade…   ┆ 67994964…   ┆             │\n",
       "│ 0x8284fe2ace ┆ 23580004    ┆ 1760493947 ┆ 0x40d16fc024 ┆ 0x50d3865a6 ┆ 0x8a4f25281 ┆ 17521836444 │\n",
       "│ 78ced208cdb5 ┆             ┆            ┆ 6ad3160ccc09 ┆ 3d52c0a54e4 ┆ 2dff2a8636e ┆ 76661164473 │\n",
       "│ b5fa93…      ┆             ┆            ┆ b8d0d3…      ┆ 67994964…   ┆ 4f7eb249…   ┆             │\n",
       "│ 0x8a965800be ┆ 23580001    ┆ 1760493911 ┆ 0xf939e0a03f ┆ 0x1f2f10d1c ┆ 0x4ebdf7039 ┆ 83474890345 │\n",
       "│ 4b3a3611012c ┆             ┆            ┆ b07f59a73314 ┆ 40777ae1da7 ┆ 48ddcea3b11 ┆ 1609006080  │\n",
       "│ b48b41…      ┆             ┆            ┆ e73794…      ┆ 42455c65…   ┆ f675b4d1…   ┆             │\n",
       "│ 0x8a965800be ┆ 23580001    ┆ 1760493911 ┆ 0xf939e0a03f ┆ 0xe0e0e08a6 ┆ 0x1f2f10d1c ┆ 83474890559 │\n",
       "│ 4b3a3611012c ┆             ┆            ┆ b07f59a73314 ┆ a4b9dc7bd67 ┆ 40777ae1da7 ┆ 5571498063  │\n",
       "│ b48b41…      ┆             ┆            ┆ e73794…      ┆ bcb7aade…   ┆ 42455c65…   ┆             │\n",
       "└──────────────┴─────────────┴────────────┴──────────────┴─────────────┴─────────────┴─────────────┘"
      ]
     },
     "execution_count": 3,
     "metadata": {},
     "output_type": "execute_result"
    }
   ],
   "source": [
    "df"
   ]
  },
  {
   "cell_type": "code",
   "execution_count": 16,
   "id": "a95eb26d",
   "metadata": {},
   "outputs": [
    {
     "data": {
      "text/plain": [
       "(23522981, 23573034)"
      ]
     },
     "execution_count": 16,
     "metadata": {},
     "output_type": "execute_result"
    }
   ],
   "source": [
    "df['blockNumber'].min(), df['blockNumber'].max()"
   ]
  },
  {
   "cell_type": "code",
   "execution_count": 12,
   "id": "f2ff2729",
   "metadata": {},
   "outputs": [
    {
     "data": {
      "text/html": [
       "<div><style>\n",
       ".dataframe > thead > tr,\n",
       ".dataframe > tbody > tr {\n",
       "  text-align: right;\n",
       "  white-space: pre-wrap;\n",
       "}\n",
       "</style>\n",
       "<small>shape: (64_153, 14)</small><table border=\"1\" class=\"dataframe\"><thead><tr><th>address</th><th>topics</th><th>data</th><th>blockNumber</th><th>blockHash</th><th>timeStamp</th><th>gasPrice</th><th>gasUsed</th><th>logIndex</th><th>transactionHash</th><th>transactionIndex</th><th>chainid</th><th>contract_address</th><th>chain</th></tr><tr><td>str</td><td>list[str]</td><td>str</td><td>i64</td><td>str</td><td>i64</td><td>i64</td><td>i64</td><td>i64</td><td>str</td><td>i64</td><td>i64</td><td>str</td><td>str</td></tr></thead><tbody><tr><td>&quot;0xf939e0a03fb07f59a73314e73794…</td><td>[&quot;0xddf252ad1be2c89b69c2b068fc378daa952ba7f163c4a11628f55a4df523b3ef&quot;, &quot;0x000000000000000000000000ed4608ceed04a40ee3d2a8cb247e9271745ab151&quot;, &quot;0x00000000000000000000000073ea3d8ba3d7380201b270ec504b33ed5e478542&quot;]</td><td>&quot;0x0000000000000000000000000000…</td><td>18421663</td><td>&quot;0x623aabd44e3604a3597cece26049…</td><td>1698169211</td><td>26739204596</td><td>289383</td><td>69</td><td>&quot;0x845e60508f0a8b341b7ec2eb1829…</td><td>9</td><td>1</td><td>&quot;0xf939e0a03fb07f59a73314e73794…</td><td>&quot;ethereum&quot;</td></tr><tr><td>&quot;0xf939e0a03fb07f59a73314e73794…</td><td>[&quot;0x8c5be1e5ebec7d5bd14f71427d1e84f3dd0314c0f7b2291e5b200ac8c7c3b925&quot;, &quot;0x000000000000000000000000e37e799d5077682fa0a244d46e5649f71457bd09&quot;, &quot;0x0000000000000000000000004ebdf703948ddcea3b11f675b4d1fba9d2414a14&quot;]</td><td>&quot;0x0000000000000000000000000000…</td><td>18239007</td><td>&quot;0x7688329cf65d75e332329cd33d23…</td><td>1695961835</td><td>7000000000</td><td>327724</td><td>553</td><td>&quot;0x04f0ec098464622207bbf482697a…</td><td>182</td><td>1</td><td>&quot;0xf939e0a03fb07f59a73314e73794…</td><td>&quot;ethereum&quot;</td></tr><tr><td>&quot;0xf939e0a03fb07f59a73314e73794…</td><td>[&quot;0xddf252ad1be2c89b69c2b068fc378daa952ba7f163c4a11628f55a4df523b3ef&quot;, &quot;0x0000000000000000000000001681195c176239ac5e72d9aebacf5b2492e0c4ee&quot;, &quot;0x0000000000000000000000001111111254eeb25477b68fb85ed929f73a960582&quot;]</td><td>&quot;0x0000000000000000000000000000…</td><td>18291325</td><td>&quot;0xa38eca491da8acf2b3e3986fda6e…</td><td>1696593683</td><td>7511837769</td><td>414031</td><td>336</td><td>&quot;0xe4a92de3d466a38665dd8784e75f…</td><td>133</td><td>1</td><td>&quot;0xf939e0a03fb07f59a73314e73794…</td><td>&quot;ethereum&quot;</td></tr><tr><td>&quot;0xf939e0a03fb07f59a73314e73794…</td><td>[&quot;0xddf252ad1be2c89b69c2b068fc378daa952ba7f163c4a11628f55a4df523b3ef&quot;, &quot;0x0000000000000000000000004ebdf703948ddcea3b11f675b4d1fba9d2414a14&quot;, &quot;0x00000000000000000000000024902aa0cf0000a08c0ea0b003b0c0bf600000e0&quot;]</td><td>&quot;0x0000000000000000000000000000…</td><td>18367547</td><td>&quot;0x0650ea8ab3b769ae2983aa4459c1…</td><td>1697514923</td><td>5454937607</td><td>422851</td><td>57</td><td>&quot;0x4e8399d7d98d18579b6499082006…</td><td>12</td><td>1</td><td>&quot;0xf939e0a03fb07f59a73314e73794…</td><td>&quot;ethereum&quot;</td></tr><tr><td>&quot;0xf939e0a03fb07f59a73314e73794…</td><td>[&quot;0xddf252ad1be2c89b69c2b068fc378daa952ba7f163c4a11628f55a4df523b3ef&quot;, &quot;0x00000000000000000000000073ea3d8ba3d7380201b270ec504b33ed5e478542&quot;, &quot;0x0000000000000000000000009008d19f58aabd9ed0d60971565aa8510560ab41&quot;]</td><td>&quot;0x0000000000000000000000000000…</td><td>18417664</td><td>&quot;0xcf60869476badd9afca8ad706c0d…</td><td>1698120827</td><td>28537523798</td><td>445859</td><td>80</td><td>&quot;0x2de35ebe13316813474edec5ca27…</td><td>23</td><td>1</td><td>&quot;0xf939e0a03fb07f59a73314e73794…</td><td>&quot;ethereum&quot;</td></tr><tr><td>&hellip;</td><td>&hellip;</td><td>&hellip;</td><td>&hellip;</td><td>&hellip;</td><td>&hellip;</td><td>&hellip;</td><td>&hellip;</td><td>&hellip;</td><td>&hellip;</td><td>&hellip;</td><td>&hellip;</td><td>&hellip;</td><td>&hellip;</td></tr><tr><td>&quot;0xf939e0a03fb07f59a73314e73794…</td><td>[&quot;0x8c5be1e5ebec7d5bd14f71427d1e84f3dd0314c0f7b2291e5b200ac8c7c3b925&quot;, &quot;0x000000000000000000000000ddcf904464166ac74629241ba21199adee3a04ad&quot;, &quot;0x000000000000000000000000000000000022d473030f116ddee9f6b43ac78ba3&quot;]</td><td>&quot;0x0000000000000000000000000000…</td><td>18075613</td><td>&quot;0x2ff7504a7a29a40ce3eed4a0b949…</td><td>1693981475</td><td>11040472755</td><td>45889</td><td>133</td><td>&quot;0xba247d2b2f6d69e5f6cc558cf455…</td><td>70</td><td>1</td><td>&quot;0xf939e0a03fb07f59a73314e73794…</td><td>&quot;ethereum&quot;</td></tr><tr><td>&quot;0xf939e0a03fb07f59a73314e73794…</td><td>[&quot;0xddf252ad1be2c89b69c2b068fc378daa952ba7f163c4a11628f55a4df523b3ef&quot;, &quot;0x0000000000000000000000002889302a794da87fbf1d6db415c1492194663d13&quot;, &quot;0x00000000000000000000000000000000009e50a7ddb7a7b0e2ee6604fd120e49&quot;]</td><td>&quot;0x0000000000000000000000000000…</td><td>18417599</td><td>&quot;0x6f103c0b225c27b3b1e0b364606f…</td><td>1698120035</td><td>29298727028</td><td>486806</td><td>86</td><td>&quot;0x8847a1f7c32c1604dad8fd17555f…</td><td>10</td><td>1</td><td>&quot;0xf939e0a03fb07f59a73314e73794…</td><td>&quot;ethereum&quot;</td></tr><tr><td>&quot;0xf939e0a03fb07f59a73314e73794…</td><td>[&quot;0xddf252ad1be2c89b69c2b068fc378daa952ba7f163c4a11628f55a4df523b3ef&quot;, &quot;0x0000000000000000000000004ebdf703948ddcea3b11f675b4d1fba9d2414a14&quot;, &quot;0x0000000000000000000000009008d19f58aabd9ed0d60971565aa8510560ab41&quot;]</td><td>&quot;0x0000000000000000000000000000…</td><td>18292709</td><td>&quot;0xb9d4e71b6ba4f978e3be751cea8a…</td><td>1696610411</td><td>12314041071</td><td>461301</td><td>88</td><td>&quot;0x3519ee46d524977b768722ad9bd4…</td><td>16</td><td>1</td><td>&quot;0xf939e0a03fb07f59a73314e73794…</td><td>&quot;ethereum&quot;</td></tr><tr><td>&quot;0xf939e0a03fb07f59a73314e73794…</td><td>[&quot;0xddf252ad1be2c89b69c2b068fc378daa952ba7f163c4a11628f55a4df523b3ef&quot;, &quot;0x0000000000000000000000004e59541306910ad6dc1dac0ac9dfb29bd9f15c67&quot;, &quot;0x000000000000000000000000ecb456ea5365865ebab8a2661b0c503410e9b347&quot;]</td><td>&quot;0x0000000000000000000000000000…</td><td>18425571</td><td>&quot;0x3e6aa36e636b5dfbc06cd006a304…</td><td>1698216527</td><td>14854870912</td><td>386862</td><td>35</td><td>&quot;0x0064b3031a87e54d2e5bb85c1d20…</td><td>8</td><td>1</td><td>&quot;0xf939e0a03fb07f59a73314e73794…</td><td>&quot;ethereum&quot;</td></tr><tr><td>&quot;0xf939e0a03fb07f59a73314e73794…</td><td>[&quot;0xddf252ad1be2c89b69c2b068fc378daa952ba7f163c4a11628f55a4df523b3ef&quot;, &quot;0x000000000000000000000000390f3595bca2df7d23783dfd126427cceb997bf4&quot;, &quot;0x0000000000000000000000002c6a3cd97c6283b95ac8c5a4459ebb0d5fd404f4&quot;]</td><td>&quot;0x0000000000000000000000000000…</td><td>18325965</td><td>&quot;0xc06e77862f4f446b7418ed419c76…</td><td>1697012363</td><td>8216857963</td><td>1059442</td><td>95</td><td>&quot;0x5ead226871c2805ad83186586c70…</td><td>8</td><td>1</td><td>&quot;0xf939e0a03fb07f59a73314e73794…</td><td>&quot;ethereum&quot;</td></tr></tbody></table></div>"
      ],
      "text/plain": [
       "shape: (64_153, 14)\n",
       "┌────────────┬────────────┬───────────┬───────────┬───┬───────────┬─────────┬───────────┬──────────┐\n",
       "│ address    ┆ topics     ┆ data      ┆ blockNumb ┆ … ┆ transacti ┆ chainid ┆ contract_ ┆ chain    │\n",
       "│ ---        ┆ ---        ┆ ---       ┆ er        ┆   ┆ onIndex   ┆ ---     ┆ address   ┆ ---      │\n",
       "│ str        ┆ list[str]  ┆ str       ┆ ---       ┆   ┆ ---       ┆ i64     ┆ ---       ┆ str      │\n",
       "│            ┆            ┆           ┆ i64       ┆   ┆ i64       ┆         ┆ str       ┆          │\n",
       "╞════════════╪════════════╪═══════════╪═══════════╪═══╪═══════════╪═════════╪═══════════╪══════════╡\n",
       "│ 0xf939e0a0 ┆ [\"0xddf252 ┆ 0x0000000 ┆ 18421663  ┆ … ┆ 9         ┆ 1       ┆ 0xf939e0a ┆ ethereum │\n",
       "│ 3fb07f59a7 ┆ ad1be2c89b ┆ 000000000 ┆           ┆   ┆           ┆         ┆ 03fb07f59 ┆          │\n",
       "│ 3314e73794 ┆ 69c2b068fc ┆ 000000000 ┆           ┆   ┆           ┆         ┆ a73314e73 ┆          │\n",
       "│ …          ┆ …          ┆ 000…      ┆           ┆   ┆           ┆         ┆ 794…      ┆          │\n",
       "│ 0xf939e0a0 ┆ [\"0x8c5be1 ┆ 0x0000000 ┆ 18239007  ┆ … ┆ 182       ┆ 1       ┆ 0xf939e0a ┆ ethereum │\n",
       "│ 3fb07f59a7 ┆ e5ebec7d5b ┆ 000000000 ┆           ┆   ┆           ┆         ┆ 03fb07f59 ┆          │\n",
       "│ 3314e73794 ┆ d14f71427d ┆ 000000000 ┆           ┆   ┆           ┆         ┆ a73314e73 ┆          │\n",
       "│ …          ┆ …          ┆ 000…      ┆           ┆   ┆           ┆         ┆ 794…      ┆          │\n",
       "│ 0xf939e0a0 ┆ [\"0xddf252 ┆ 0x0000000 ┆ 18291325  ┆ … ┆ 133       ┆ 1       ┆ 0xf939e0a ┆ ethereum │\n",
       "│ 3fb07f59a7 ┆ ad1be2c89b ┆ 000000000 ┆           ┆   ┆           ┆         ┆ 03fb07f59 ┆          │\n",
       "│ 3314e73794 ┆ 69c2b068fc ┆ 000000000 ┆           ┆   ┆           ┆         ┆ a73314e73 ┆          │\n",
       "│ …          ┆ …          ┆ 000…      ┆           ┆   ┆           ┆         ┆ 794…      ┆          │\n",
       "│ 0xf939e0a0 ┆ [\"0xddf252 ┆ 0x0000000 ┆ 18367547  ┆ … ┆ 12        ┆ 1       ┆ 0xf939e0a ┆ ethereum │\n",
       "│ 3fb07f59a7 ┆ ad1be2c89b ┆ 000000000 ┆           ┆   ┆           ┆         ┆ 03fb07f59 ┆          │\n",
       "│ 3314e73794 ┆ 69c2b068fc ┆ 000000000 ┆           ┆   ┆           ┆         ┆ a73314e73 ┆          │\n",
       "│ …          ┆ …          ┆ 000…      ┆           ┆   ┆           ┆         ┆ 794…      ┆          │\n",
       "│ 0xf939e0a0 ┆ [\"0xddf252 ┆ 0x0000000 ┆ 18417664  ┆ … ┆ 23        ┆ 1       ┆ 0xf939e0a ┆ ethereum │\n",
       "│ 3fb07f59a7 ┆ ad1be2c89b ┆ 000000000 ┆           ┆   ┆           ┆         ┆ 03fb07f59 ┆          │\n",
       "│ 3314e73794 ┆ 69c2b068fc ┆ 000000000 ┆           ┆   ┆           ┆         ┆ a73314e73 ┆          │\n",
       "│ …          ┆ …          ┆ 000…      ┆           ┆   ┆           ┆         ┆ 794…      ┆          │\n",
       "│ …          ┆ …          ┆ …         ┆ …         ┆ … ┆ …         ┆ …       ┆ …         ┆ …        │\n",
       "│ 0xf939e0a0 ┆ [\"0x8c5be1 ┆ 0x0000000 ┆ 18075613  ┆ … ┆ 70        ┆ 1       ┆ 0xf939e0a ┆ ethereum │\n",
       "│ 3fb07f59a7 ┆ e5ebec7d5b ┆ 000000000 ┆           ┆   ┆           ┆         ┆ 03fb07f59 ┆          │\n",
       "│ 3314e73794 ┆ d14f71427d ┆ 000000000 ┆           ┆   ┆           ┆         ┆ a73314e73 ┆          │\n",
       "│ …          ┆ …          ┆ 000…      ┆           ┆   ┆           ┆         ┆ 794…      ┆          │\n",
       "│ 0xf939e0a0 ┆ [\"0xddf252 ┆ 0x0000000 ┆ 18417599  ┆ … ┆ 10        ┆ 1       ┆ 0xf939e0a ┆ ethereum │\n",
       "│ 3fb07f59a7 ┆ ad1be2c89b ┆ 000000000 ┆           ┆   ┆           ┆         ┆ 03fb07f59 ┆          │\n",
       "│ 3314e73794 ┆ 69c2b068fc ┆ 000000000 ┆           ┆   ┆           ┆         ┆ a73314e73 ┆          │\n",
       "│ …          ┆ …          ┆ 000…      ┆           ┆   ┆           ┆         ┆ 794…      ┆          │\n",
       "│ 0xf939e0a0 ┆ [\"0xddf252 ┆ 0x0000000 ┆ 18292709  ┆ … ┆ 16        ┆ 1       ┆ 0xf939e0a ┆ ethereum │\n",
       "│ 3fb07f59a7 ┆ ad1be2c89b ┆ 000000000 ┆           ┆   ┆           ┆         ┆ 03fb07f59 ┆          │\n",
       "│ 3314e73794 ┆ 69c2b068fc ┆ 000000000 ┆           ┆   ┆           ┆         ┆ a73314e73 ┆          │\n",
       "│ …          ┆ …          ┆ 000…      ┆           ┆   ┆           ┆         ┆ 794…      ┆          │\n",
       "│ 0xf939e0a0 ┆ [\"0xddf252 ┆ 0x0000000 ┆ 18425571  ┆ … ┆ 8         ┆ 1       ┆ 0xf939e0a ┆ ethereum │\n",
       "│ 3fb07f59a7 ┆ ad1be2c89b ┆ 000000000 ┆           ┆   ┆           ┆         ┆ 03fb07f59 ┆          │\n",
       "│ 3314e73794 ┆ 69c2b068fc ┆ 000000000 ┆           ┆   ┆           ┆         ┆ a73314e73 ┆          │\n",
       "│ …          ┆ …          ┆ 000…      ┆           ┆   ┆           ┆         ┆ 794…      ┆          │\n",
       "│ 0xf939e0a0 ┆ [\"0xddf252 ┆ 0x0000000 ┆ 18325965  ┆ … ┆ 8         ┆ 1       ┆ 0xf939e0a ┆ ethereum │\n",
       "│ 3fb07f59a7 ┆ ad1be2c89b ┆ 000000000 ┆           ┆   ┆           ┆         ┆ 03fb07f59 ┆          │\n",
       "│ 3314e73794 ┆ 69c2b068fc ┆ 000000000 ┆           ┆   ┆           ┆         ┆ a73314e73 ┆          │\n",
       "│ …          ┆ …          ┆ 000…      ┆           ┆   ┆           ┆         ┆ 794…      ┆          │\n",
       "└────────────┴────────────┴───────────┴───────────┴───┴───────────┴─────────┴───────────┴──────────┘"
      ]
     },
     "execution_count": 12,
     "metadata": {},
     "output_type": "execute_result"
    }
   ],
   "source": [
    "df.filter(\n",
    "    (pl.col('blockNumber') >= 18_000_000)\n",
    "    &(pl.col('blockNumber') <= 18_500_000)\n",
    ")"
   ]
  },
  {
   "cell_type": "markdown",
   "id": "194c60d7",
   "metadata": {},
   "source": [
    "2025-10-12 17:05:38 - onchaindata.data_extraction.etherscan - INFO - Got 0xf939e0a03fb07f59a73314e73794be0e57ac1b4e - ethereum - logs - 18000000-18049999: 5697\n",
    "2025-10-12 17:05:40 - onchaindata.data_extraction.etherscan - INFO - Got 0xf939e0a03fb07f59a73314e73794be0e57ac1b4e - ethereum - logs - 18050000-18099999: 3900\n",
    "2025-10-12 17:05:42 - onchaindata.data_extraction.etherscan - INFO - Got 0xf939e0a03fb07f59a73314e73794be0e57ac1b4e - ethereum - logs - 18100000-18149999: 4931\n",
    "2025-10-12 17:05:44 - onchaindata.data_extraction.etherscan - INFO - Got 0xf939e0a03fb07f59a73314e73794be0e57ac1b4e - ethereum - logs - 18150000-18199999: 4767\n",
    "2025-10-12 17:05:46 - onchaindata.data_extraction.etherscan - INFO - Got 0xf939e0a03fb07f59a73314e73794be0e57ac1b4e - ethereum - logs - 18200000-18249999: 4974\n",
    "2025-10-12 17:05:51 - onchaindata.data_extraction.etherscan - INFO - Got 0xf939e0a03fb07f59a73314e73794be0e57ac1b4e - ethereum - logs - 18250000-18299999: 6048\n",
    "2025-10-12 17:05:58 - onchaindata.data_extraction.etherscan - INFO - Got 0xf939e0a03fb07f59a73314e73794be0e57ac1b4e - ethereum - logs - 18300000-18349999: 7349\n",
    "2025-10-12 17:06:04 - onchaindata.data_extraction.etherscan - INFO - Got 0xf939e0a03fb07f59a73314e73794be0e57ac1b4e - ethereum - logs - 18350000-18399999: 6851\n",
    "\n",
    "2025-10-12 17:06:13,191|[WARNING]|291254|131523652328512|dlt|client.py|extract_response:286|Extracted data is None for path result, returning empty list\n",
    "\n",
    "2025-10-12 17:06:13 - onchaindata.data_extraction.etherscan - INFO - Got 0xf939e0a03fb07f59a73314e73794be0e57ac1b4e - ethereum - logs - 18400000-18449999: 10000\n",
    "\n",
    "2025-10-12 17:06:23,720|[WARNING]|291254|131523652328512|dlt|client.py|extract_response:286|Extracted data is None for path result, returning empty list\n",
    "\n",
    "2025-10-12 17:06:23 - onchaindata.data_extraction.etherscan - INFO - Got 0xf939e0a03fb07f59a73314e73794be0e57ac1b4e - ethereum - logs - 18450000-18499999: 9636"
   ]
  },
  {
   "cell_type": "code",
   "execution_count": 13,
   "id": "87aeb520",
   "metadata": {},
   "outputs": [
    {
     "name": "stdout",
     "output_type": "stream",
     "text": [
      "22894 32894\n",
      "32894 42894\n",
      "42894 52894\n",
      "52894 62894\n",
      "62894 72894\n",
      "---\n",
      "72894 72960\n"
     ]
    }
   ],
   "source": [
    "# for chunk_start in range(18400000, 18450000 + 1, 50000):\n",
    "#     print(chunk_start)\n",
    "from_block = 22894\n",
    "end_block  = 72960\n",
    "block_chunk_size = 10000\n",
    "for chunk_start in range(from_block, end_block - block_chunk_size + 1, block_chunk_size):\n",
    "    chunk_end = min(chunk_start + block_chunk_size, end_block)\n",
    "    print(chunk_start, chunk_end)\n",
    "\n",
    "print(\"---\")\n",
    "print(chunk_end, end_block)"
   ]
  },
  {
   "cell_type": "code",
   "execution_count": 1,
   "id": "267d6a58",
   "metadata": {},
   "outputs": [
    {
     "data": {
      "text/plain": [
       "-50066"
      ]
     },
     "execution_count": 1,
     "metadata": {},
     "output_type": "execute_result"
    }
   ],
   "source": [
    "23522894 - 23572960"
   ]
  },
  {
   "cell_type": "code",
   "execution_count": 2,
   "id": "0dfbb913",
   "metadata": {},
   "outputs": [
    {
     "data": {
      "text/plain": [
       "-10000"
      ]
     },
     "execution_count": 2,
     "metadata": {},
     "output_type": "execute_result"
    }
   ],
   "source": [
    "23552894-23562894"
   ]
  },
  {
   "cell_type": "code",
   "execution_count": 3,
   "id": "eda966bc",
   "metadata": {},
   "outputs": [
    {
     "data": {
      "text/plain": [
       "'0xf939e0a03fb07f59a73314e73794be0e57ac1b4e'"
      ]
     },
     "execution_count": 3,
     "metadata": {},
     "output_type": "execute_result"
    }
   ],
   "source": [
    "'0xf939E0A03FB07F59A73314E73794Be0E57ac1b4E'.lower()\n"
   ]
  },
  {
   "cell_type": "code",
   "execution_count": 3,
   "id": "bbc78d6d",
   "metadata": {},
   "outputs": [
    {
     "data": {
      "text/plain": [
       "'0x4e38144a0604309c29077e1e875f75c8e4df244678fd934b48b3ccc373704fe711'"
      ]
     },
     "execution_count": 3,
     "metadata": {},
     "output_type": "execute_result"
    }
   ],
   "source": [
    "'0x4e 3814 4a06 0430 9c29 077e 1e87 5f75 c8e4 df24 4678 fd93 4b48 b3cc c3737 04fe711'.replace(\" \", \"\")"
   ]
  },
  {
   "cell_type": "code",
   "execution_count": 19,
   "id": "fa71c84f",
   "metadata": {},
   "outputs": [
    {
     "data": {
      "text/plain": [
       "-14302"
      ]
     },
     "execution_count": 19,
     "metadata": {},
     "output_type": "execute_result"
    }
   ],
   "source": [
    "23558903-23573205"
   ]
  },
  {
   "cell_type": "code",
   "execution_count": 3,
   "id": "9268d3d9",
   "metadata": {},
   "outputs": [
    {
     "data": {
      "text/plain": [
       "'0xcacd6fd266af91b8aed52accc382b4e165586e29'"
      ]
     },
     "execution_count": 3,
     "metadata": {},
     "output_type": "execute_result"
    }
   ],
   "source": [
    "'0xCAcd6fd266aF91b8AeD52aCCc382b4e165586E29'.lower()"
   ]
  }
 ],
 "metadata": {
  "kernelspec": {
   "display_name": ".venv",
   "language": "python",
   "name": "python3"
  },
  "language_info": {
   "codemirror_mode": {
    "name": "ipython",
    "version": 3
   },
   "file_extension": ".py",
   "mimetype": "text/x-python",
   "name": "python",
   "nbconvert_exporter": "python",
   "pygments_lexer": "ipython3",
   "version": "3.11.11"
  }
 },
 "nbformat": 4,
 "nbformat_minor": 5
}
