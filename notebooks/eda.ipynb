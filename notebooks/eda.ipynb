{
 "cells": [
  {
   "cell_type": "code",
   "execution_count": 2,
   "id": "f477c2c6",
   "metadata": {},
   "outputs": [],
   "source": [
    "import polars as pl\n",
    "from pathlib import Path\n",
    "\n",
    "rootdir = Path.cwd().parent"
   ]
  },
  {
   "cell_type": "code",
   "execution_count": 6,
   "id": "17cf7937",
   "metadata": {},
   "outputs": [
    {
     "data": {
      "text/html": [
       "<div><style>\n",
       ".dataframe > thead > tr,\n",
       ".dataframe > tbody > tr {\n",
       "  text-align: right;\n",
       "  white-space: pre-wrap;\n",
       "}\n",
       "</style>\n",
       "<small>shape: (19_636, 12)</small><table border=\"1\" class=\"dataframe\"><thead><tr><th>address</th><th>topics</th><th>data</th><th>blockNumber</th><th>blockHash</th><th>timeStamp</th><th>gasPrice</th><th>gasUsed</th><th>logIndex</th><th>transactionHash</th><th>transactionIndex</th><th>chainid</th></tr><tr><td>str</td><td>list[str]</td><td>str</td><td>i64</td><td>str</td><td>i64</td><td>i64</td><td>i64</td><td>i64</td><td>str</td><td>i64</td><td>i64</td></tr></thead><tbody><tr><td>&quot;0xf939e0a03fb07f59a73314e73794…</td><td>[&quot;0xddf252ad1be2c89b69c2b068fc378daa952ba7f163c4a11628f55a4df523b3ef&quot;, &quot;0x00000000000000000000000037417b2238aa52d0dd2d6252d989e728e8f706e4&quot;, &quot;0x0000000000000000000000008d8404f8cca4c8834ca3cab1e54887ae47724bee&quot;]</td><td>&quot;0x0000000000000000000000000000…</td><td>18400005</td><td>&quot;0x30be9f8d751e67bf6097a4255bd2…</td><td>1697907275</td><td>11927448205</td><td>676252</td><td>122</td><td>&quot;0x82a6b4a7f433482ef1c4268fdfe9…</td><td>16</td><td>1</td></tr><tr><td>&quot;0xf939e0a03fb07f59a73314e73794…</td><td>[&quot;0x8c5be1e5ebec7d5bd14f71427d1e84f3dd0314c0f7b2291e5b200ac8c7c3b925&quot;, &quot;0x0000000000000000000000008d8404f8cca4c8834ca3cab1e54887ae47724bee&quot;, &quot;0x000000000000000000000000390f3595bca2df7d23783dfd126427cceb997bf4&quot;]</td><td>&quot;0x0000000000000000000000000000…</td><td>18400005</td><td>&quot;0x30be9f8d751e67bf6097a4255bd2…</td><td>1697907275</td><td>11927448205</td><td>676252</td><td>124</td><td>&quot;0x82a6b4a7f433482ef1c4268fdfe9…</td><td>16</td><td>1</td></tr><tr><td>&quot;0xf939e0a03fb07f59a73314e73794…</td><td>[&quot;0x8c5be1e5ebec7d5bd14f71427d1e84f3dd0314c0f7b2291e5b200ac8c7c3b925&quot;, &quot;0x0000000000000000000000008d8404f8cca4c8834ca3cab1e54887ae47724bee&quot;, &quot;0x000000000000000000000000390f3595bca2df7d23783dfd126427cceb997bf4&quot;]</td><td>&quot;0x0000000000000000000000000000…</td><td>18400005</td><td>&quot;0x30be9f8d751e67bf6097a4255bd2…</td><td>1697907275</td><td>11927448205</td><td>676252</td><td>125</td><td>&quot;0x82a6b4a7f433482ef1c4268fdfe9…</td><td>16</td><td>1</td></tr><tr><td>&quot;0xf939e0a03fb07f59a73314e73794…</td><td>[&quot;0xddf252ad1be2c89b69c2b068fc378daa952ba7f163c4a11628f55a4df523b3ef&quot;, &quot;0x0000000000000000000000008d8404f8cca4c8834ca3cab1e54887ae47724bee&quot;, &quot;0x000000000000000000000000390f3595bca2df7d23783dfd126427cceb997bf4&quot;]</td><td>&quot;0x0000000000000000000000000000…</td><td>18400005</td><td>&quot;0x30be9f8d751e67bf6097a4255bd2…</td><td>1697907275</td><td>11927448205</td><td>676252</td><td>126</td><td>&quot;0x82a6b4a7f433482ef1c4268fdfe9…</td><td>16</td><td>1</td></tr><tr><td>&quot;0xf939e0a03fb07f59a73314e73794…</td><td>[&quot;0xddf252ad1be2c89b69c2b068fc378daa952ba7f163c4a11628f55a4df523b3ef&quot;, &quot;0x00000000000000000000000037417b2238aa52d0dd2d6252d989e728e8f706e4&quot;, &quot;0x000000000000000000000000e37e799d5077682fa0a244d46e5649f71457bd09&quot;]</td><td>&quot;0x0000000000000000000000000000…</td><td>18400007</td><td>&quot;0x8bc6d70a2747a090b33e0a444381…</td><td>1697907299</td><td>11781884301</td><td>824116</td><td>373</td><td>&quot;0xaf2f1ca16af5c845db2dced52ebb…</td><td>122</td><td>1</td></tr><tr><td>&hellip;</td><td>&hellip;</td><td>&hellip;</td><td>&hellip;</td><td>&hellip;</td><td>&hellip;</td><td>&hellip;</td><td>&hellip;</td><td>&hellip;</td><td>&hellip;</td><td>&hellip;</td><td>&hellip;</td></tr><tr><td>&quot;0xf939e0a03fb07f59a73314e73794…</td><td>[&quot;0xddf252ad1be2c89b69c2b068fc378daa952ba7f163c4a11628f55a4df523b3ef&quot;, &quot;0x00000000000000000000000093208ff8d7abba4d871626a5a31643e08d52a18a&quot;, &quot;0x000000000000000000000000271fbe8ab7f1fb262f81c77ea5303f03da9d3d6a&quot;]</td><td>&quot;0x0000000000000000000000000000…</td><td>18499892</td><td>&quot;0x0e023dc91d92ee1c20acdd8cd13c…</td><td>1699115663</td><td>35912506659</td><td>597014</td><td>233</td><td>&quot;0x3e2b78a47b4c94b846b1ae377afe…</td><td>24</td><td>1</td></tr><tr><td>&quot;0xf939e0a03fb07f59a73314e73794…</td><td>[&quot;0xddf252ad1be2c89b69c2b068fc378daa952ba7f163c4a11628f55a4df523b3ef&quot;, &quot;0x000000000000000000000000271fbe8ab7f1fb262f81c77ea5303f03da9d3d6a&quot;, &quot;0x0000000000000000000000001539c2461d7432cc114b0903f1824079bfca2c92&quot;]</td><td>&quot;0x0000000000000000000000000000…</td><td>18499892</td><td>&quot;0x0e023dc91d92ee1c20acdd8cd13c…</td><td>1699115663</td><td>35912506659</td><td>597014</td><td>235</td><td>&quot;0x3e2b78a47b4c94b846b1ae377afe…</td><td>24</td><td>1</td></tr><tr><td>&quot;0xf939e0a03fb07f59a73314e73794…</td><td>[&quot;0xddf252ad1be2c89b69c2b068fc378daa952ba7f163c4a11628f55a4df523b3ef&quot;, &quot;0x0000000000000000000000001c91da0223c763d2e0173243eadaa0a2ea47e704&quot;, &quot;0x000000000000000000000000d9a75d50b9bcff5f2ceec092744eee9a310d9f67&quot;]</td><td>&quot;0x0000000000000000000000000000…</td><td>18499914</td><td>&quot;0x302afe3b4c11b7ededd2d10e1de9…</td><td>1699115927</td><td>26841234088</td><td>787218</td><td>18</td><td>&quot;0x82f9064fe409f8b2e5a236a6066c…</td><td>4</td><td>1</td></tr><tr><td>&quot;0xf939e0a03fb07f59a73314e73794…</td><td>[&quot;0xddf252ad1be2c89b69c2b068fc378daa952ba7f163c4a11628f55a4df523b3ef&quot;, &quot;0x000000000000000000000000d9a75d50b9bcff5f2ceec092744eee9a310d9f67&quot;, &quot;0x000000000000000000000000b9ec78bd89d3ef17537f130cc72750fd4de85f82&quot;]</td><td>&quot;0x0000000000000000000000000000…</td><td>18499919</td><td>&quot;0xb767a36f1c3ba4ed13b6ed12e281…</td><td>1699115987</td><td>24689860493</td><td>127966</td><td>86</td><td>&quot;0x0f3c71750bb1097c98ccc6afdfa4…</td><td>37</td><td>1</td></tr><tr><td>&quot;0xf939e0a03fb07f59a73314e73794…</td><td>[&quot;0xddf252ad1be2c89b69c2b068fc378daa952ba7f163c4a11628f55a4df523b3ef&quot;, &quot;0x0000000000000000000000002a31d3275be179acaf17456c6bb8382e1b7a67af&quot;, &quot;0x0000000000000000000000002dabf79e16ceb92b651651f47b6e835c9db5828a&quot;]</td><td>&quot;0x0000000000000000000000000000…</td><td>18499988</td><td>&quot;0x654aba94153236c0439a30b08f29…</td><td>1699116815</td><td>25330755034</td><td>169617</td><td>137</td><td>&quot;0xb29c1f4f35e8062639a793023b10…</td><td>59</td><td>1</td></tr></tbody></table></div>"
      ],
      "text/plain": [
       "shape: (19_636, 12)\n",
       "┌────────────┬────────────┬───────────┬───────────┬───┬──────────┬───────────┬───────────┬─────────┐\n",
       "│ address    ┆ topics     ┆ data      ┆ blockNumb ┆ … ┆ logIndex ┆ transacti ┆ transacti ┆ chainid │\n",
       "│ ---        ┆ ---        ┆ ---       ┆ er        ┆   ┆ ---      ┆ onHash    ┆ onIndex   ┆ ---     │\n",
       "│ str        ┆ list[str]  ┆ str       ┆ ---       ┆   ┆ i64      ┆ ---       ┆ ---       ┆ i64     │\n",
       "│            ┆            ┆           ┆ i64       ┆   ┆          ┆ str       ┆ i64       ┆         │\n",
       "╞════════════╪════════════╪═══════════╪═══════════╪═══╪══════════╪═══════════╪═══════════╪═════════╡\n",
       "│ 0xf939e0a0 ┆ [\"0xddf252 ┆ 0x0000000 ┆ 18400005  ┆ … ┆ 122      ┆ 0x82a6b4a ┆ 16        ┆ 1       │\n",
       "│ 3fb07f59a7 ┆ ad1be2c89b ┆ 000000000 ┆           ┆   ┆          ┆ 7f433482e ┆           ┆         │\n",
       "│ 3314e73794 ┆ 69c2b068fc ┆ 000000000 ┆           ┆   ┆          ┆ f1c4268fd ┆           ┆         │\n",
       "│ …          ┆ …          ┆ 000…      ┆           ┆   ┆          ┆ fe9…      ┆           ┆         │\n",
       "│ 0xf939e0a0 ┆ [\"0x8c5be1 ┆ 0x0000000 ┆ 18400005  ┆ … ┆ 124      ┆ 0x82a6b4a ┆ 16        ┆ 1       │\n",
       "│ 3fb07f59a7 ┆ e5ebec7d5b ┆ 000000000 ┆           ┆   ┆          ┆ 7f433482e ┆           ┆         │\n",
       "│ 3314e73794 ┆ d14f71427d ┆ 000000000 ┆           ┆   ┆          ┆ f1c4268fd ┆           ┆         │\n",
       "│ …          ┆ …          ┆ 000…      ┆           ┆   ┆          ┆ fe9…      ┆           ┆         │\n",
       "│ 0xf939e0a0 ┆ [\"0x8c5be1 ┆ 0x0000000 ┆ 18400005  ┆ … ┆ 125      ┆ 0x82a6b4a ┆ 16        ┆ 1       │\n",
       "│ 3fb07f59a7 ┆ e5ebec7d5b ┆ 000000000 ┆           ┆   ┆          ┆ 7f433482e ┆           ┆         │\n",
       "│ 3314e73794 ┆ d14f71427d ┆ 000000000 ┆           ┆   ┆          ┆ f1c4268fd ┆           ┆         │\n",
       "│ …          ┆ …          ┆ 000…      ┆           ┆   ┆          ┆ fe9…      ┆           ┆         │\n",
       "│ 0xf939e0a0 ┆ [\"0xddf252 ┆ 0x0000000 ┆ 18400005  ┆ … ┆ 126      ┆ 0x82a6b4a ┆ 16        ┆ 1       │\n",
       "│ 3fb07f59a7 ┆ ad1be2c89b ┆ 000000000 ┆           ┆   ┆          ┆ 7f433482e ┆           ┆         │\n",
       "│ 3314e73794 ┆ 69c2b068fc ┆ 000000000 ┆           ┆   ┆          ┆ f1c4268fd ┆           ┆         │\n",
       "│ …          ┆ …          ┆ 000…      ┆           ┆   ┆          ┆ fe9…      ┆           ┆         │\n",
       "│ 0xf939e0a0 ┆ [\"0xddf252 ┆ 0x0000000 ┆ 18400007  ┆ … ┆ 373      ┆ 0xaf2f1ca ┆ 122       ┆ 1       │\n",
       "│ 3fb07f59a7 ┆ ad1be2c89b ┆ 000000000 ┆           ┆   ┆          ┆ 16af5c845 ┆           ┆         │\n",
       "│ 3314e73794 ┆ 69c2b068fc ┆ 000000000 ┆           ┆   ┆          ┆ db2dced52 ┆           ┆         │\n",
       "│ …          ┆ …          ┆ 000…      ┆           ┆   ┆          ┆ ebb…      ┆           ┆         │\n",
       "│ …          ┆ …          ┆ …         ┆ …         ┆ … ┆ …        ┆ …         ┆ …         ┆ …       │\n",
       "│ 0xf939e0a0 ┆ [\"0xddf252 ┆ 0x0000000 ┆ 18499892  ┆ … ┆ 233      ┆ 0x3e2b78a ┆ 24        ┆ 1       │\n",
       "│ 3fb07f59a7 ┆ ad1be2c89b ┆ 000000000 ┆           ┆   ┆          ┆ 47b4c94b8 ┆           ┆         │\n",
       "│ 3314e73794 ┆ 69c2b068fc ┆ 000000000 ┆           ┆   ┆          ┆ 46b1ae377 ┆           ┆         │\n",
       "│ …          ┆ …          ┆ 000…      ┆           ┆   ┆          ┆ afe…      ┆           ┆         │\n",
       "│ 0xf939e0a0 ┆ [\"0xddf252 ┆ 0x0000000 ┆ 18499892  ┆ … ┆ 235      ┆ 0x3e2b78a ┆ 24        ┆ 1       │\n",
       "│ 3fb07f59a7 ┆ ad1be2c89b ┆ 000000000 ┆           ┆   ┆          ┆ 47b4c94b8 ┆           ┆         │\n",
       "│ 3314e73794 ┆ 69c2b068fc ┆ 000000000 ┆           ┆   ┆          ┆ 46b1ae377 ┆           ┆         │\n",
       "│ …          ┆ …          ┆ 000…      ┆           ┆   ┆          ┆ afe…      ┆           ┆         │\n",
       "│ 0xf939e0a0 ┆ [\"0xddf252 ┆ 0x0000000 ┆ 18499914  ┆ … ┆ 18       ┆ 0x82f9064 ┆ 4         ┆ 1       │\n",
       "│ 3fb07f59a7 ┆ ad1be2c89b ┆ 000000000 ┆           ┆   ┆          ┆ fe409f8b2 ┆           ┆         │\n",
       "│ 3314e73794 ┆ 69c2b068fc ┆ 000000000 ┆           ┆   ┆          ┆ e5a236a60 ┆           ┆         │\n",
       "│ …          ┆ …          ┆ 000…      ┆           ┆   ┆          ┆ 66c…      ┆           ┆         │\n",
       "│ 0xf939e0a0 ┆ [\"0xddf252 ┆ 0x0000000 ┆ 18499919  ┆ … ┆ 86       ┆ 0x0f3c717 ┆ 37        ┆ 1       │\n",
       "│ 3fb07f59a7 ┆ ad1be2c89b ┆ 000000000 ┆           ┆   ┆          ┆ 50bb1097c ┆           ┆         │\n",
       "│ 3314e73794 ┆ 69c2b068fc ┆ 000000000 ┆           ┆   ┆          ┆ 98ccc6afd ┆           ┆         │\n",
       "│ …          ┆ …          ┆ 000…      ┆           ┆   ┆          ┆ fa4…      ┆           ┆         │\n",
       "│ 0xf939e0a0 ┆ [\"0xddf252 ┆ 0x0000000 ┆ 18499988  ┆ … ┆ 137      ┆ 0xb29c1f4 ┆ 59        ┆ 1       │\n",
       "│ 3fb07f59a7 ┆ ad1be2c89b ┆ 000000000 ┆           ┆   ┆          ┆ f35e80626 ┆           ┆         │\n",
       "│ 3314e73794 ┆ 69c2b068fc ┆ 000000000 ┆           ┆   ┆          ┆ 39a793023 ┆           ┆         │\n",
       "│ …          ┆ …          ┆ 000…      ┆           ┆   ┆          ┆ b10…      ┆           ┆         │\n",
       "└────────────┴────────────┴───────────┴───────────┴───┴──────────┴───────────┴───────────┴─────────┘"
      ]
     },
     "execution_count": 6,
     "metadata": {},
     "output_type": "execute_result"
    }
   ],
   "source": [
    "file_path = rootdir / '.data/etherscan_raw/ethereum_0xf939E0A03FB07F59A73314E73794Be0E57ac1b4E_18400000_18500000_logs.parquet'\n",
    "\n",
    "df = pl.read_parquet(file_path)\n",
    "df"
   ]
  },
  {
   "cell_type": "code",
   "execution_count": 13,
   "id": "03b56bda",
   "metadata": {},
   "outputs": [
    {
     "data": {
      "text/plain": [
       "'0xf939e0a03fb07f59a73314e73794be0e57ac1b4e'"
      ]
     },
     "execution_count": 13,
     "metadata": {},
     "output_type": "execute_result"
    }
   ],
   "source": [
    "'0xf939E0A03FB07F59A73314E73794Be0E57ac1b4E'.lower()\n",
    "# df['blockNumber'].max()"
   ]
  },
  {
   "cell_type": "code",
   "execution_count": 3,
   "id": "a95eb26d",
   "metadata": {},
   "outputs": [
    {
     "data": {
      "text/plain": [
       "17257952"
      ]
     },
     "execution_count": 3,
     "metadata": {},
     "output_type": "execute_result"
    }
   ],
   "source": [
    "df['blockNumber'].min()"
   ]
  },
  {
   "cell_type": "code",
   "execution_count": 12,
   "id": "f2ff2729",
   "metadata": {},
   "outputs": [
    {
     "data": {
      "text/html": [
       "<div><style>\n",
       ".dataframe > thead > tr,\n",
       ".dataframe > tbody > tr {\n",
       "  text-align: right;\n",
       "  white-space: pre-wrap;\n",
       "}\n",
       "</style>\n",
       "<small>shape: (64_153, 14)</small><table border=\"1\" class=\"dataframe\"><thead><tr><th>address</th><th>topics</th><th>data</th><th>blockNumber</th><th>blockHash</th><th>timeStamp</th><th>gasPrice</th><th>gasUsed</th><th>logIndex</th><th>transactionHash</th><th>transactionIndex</th><th>chainid</th><th>contract_address</th><th>chain</th></tr><tr><td>str</td><td>list[str]</td><td>str</td><td>i64</td><td>str</td><td>i64</td><td>i64</td><td>i64</td><td>i64</td><td>str</td><td>i64</td><td>i64</td><td>str</td><td>str</td></tr></thead><tbody><tr><td>&quot;0xf939e0a03fb07f59a73314e73794…</td><td>[&quot;0xddf252ad1be2c89b69c2b068fc378daa952ba7f163c4a11628f55a4df523b3ef&quot;, &quot;0x000000000000000000000000ed4608ceed04a40ee3d2a8cb247e9271745ab151&quot;, &quot;0x00000000000000000000000073ea3d8ba3d7380201b270ec504b33ed5e478542&quot;]</td><td>&quot;0x0000000000000000000000000000…</td><td>18421663</td><td>&quot;0x623aabd44e3604a3597cece26049…</td><td>1698169211</td><td>26739204596</td><td>289383</td><td>69</td><td>&quot;0x845e60508f0a8b341b7ec2eb1829…</td><td>9</td><td>1</td><td>&quot;0xf939e0a03fb07f59a73314e73794…</td><td>&quot;ethereum&quot;</td></tr><tr><td>&quot;0xf939e0a03fb07f59a73314e73794…</td><td>[&quot;0x8c5be1e5ebec7d5bd14f71427d1e84f3dd0314c0f7b2291e5b200ac8c7c3b925&quot;, &quot;0x000000000000000000000000e37e799d5077682fa0a244d46e5649f71457bd09&quot;, &quot;0x0000000000000000000000004ebdf703948ddcea3b11f675b4d1fba9d2414a14&quot;]</td><td>&quot;0x0000000000000000000000000000…</td><td>18239007</td><td>&quot;0x7688329cf65d75e332329cd33d23…</td><td>1695961835</td><td>7000000000</td><td>327724</td><td>553</td><td>&quot;0x04f0ec098464622207bbf482697a…</td><td>182</td><td>1</td><td>&quot;0xf939e0a03fb07f59a73314e73794…</td><td>&quot;ethereum&quot;</td></tr><tr><td>&quot;0xf939e0a03fb07f59a73314e73794…</td><td>[&quot;0xddf252ad1be2c89b69c2b068fc378daa952ba7f163c4a11628f55a4df523b3ef&quot;, &quot;0x0000000000000000000000001681195c176239ac5e72d9aebacf5b2492e0c4ee&quot;, &quot;0x0000000000000000000000001111111254eeb25477b68fb85ed929f73a960582&quot;]</td><td>&quot;0x0000000000000000000000000000…</td><td>18291325</td><td>&quot;0xa38eca491da8acf2b3e3986fda6e…</td><td>1696593683</td><td>7511837769</td><td>414031</td><td>336</td><td>&quot;0xe4a92de3d466a38665dd8784e75f…</td><td>133</td><td>1</td><td>&quot;0xf939e0a03fb07f59a73314e73794…</td><td>&quot;ethereum&quot;</td></tr><tr><td>&quot;0xf939e0a03fb07f59a73314e73794…</td><td>[&quot;0xddf252ad1be2c89b69c2b068fc378daa952ba7f163c4a11628f55a4df523b3ef&quot;, &quot;0x0000000000000000000000004ebdf703948ddcea3b11f675b4d1fba9d2414a14&quot;, &quot;0x00000000000000000000000024902aa0cf0000a08c0ea0b003b0c0bf600000e0&quot;]</td><td>&quot;0x0000000000000000000000000000…</td><td>18367547</td><td>&quot;0x0650ea8ab3b769ae2983aa4459c1…</td><td>1697514923</td><td>5454937607</td><td>422851</td><td>57</td><td>&quot;0x4e8399d7d98d18579b6499082006…</td><td>12</td><td>1</td><td>&quot;0xf939e0a03fb07f59a73314e73794…</td><td>&quot;ethereum&quot;</td></tr><tr><td>&quot;0xf939e0a03fb07f59a73314e73794…</td><td>[&quot;0xddf252ad1be2c89b69c2b068fc378daa952ba7f163c4a11628f55a4df523b3ef&quot;, &quot;0x00000000000000000000000073ea3d8ba3d7380201b270ec504b33ed5e478542&quot;, &quot;0x0000000000000000000000009008d19f58aabd9ed0d60971565aa8510560ab41&quot;]</td><td>&quot;0x0000000000000000000000000000…</td><td>18417664</td><td>&quot;0xcf60869476badd9afca8ad706c0d…</td><td>1698120827</td><td>28537523798</td><td>445859</td><td>80</td><td>&quot;0x2de35ebe13316813474edec5ca27…</td><td>23</td><td>1</td><td>&quot;0xf939e0a03fb07f59a73314e73794…</td><td>&quot;ethereum&quot;</td></tr><tr><td>&hellip;</td><td>&hellip;</td><td>&hellip;</td><td>&hellip;</td><td>&hellip;</td><td>&hellip;</td><td>&hellip;</td><td>&hellip;</td><td>&hellip;</td><td>&hellip;</td><td>&hellip;</td><td>&hellip;</td><td>&hellip;</td><td>&hellip;</td></tr><tr><td>&quot;0xf939e0a03fb07f59a73314e73794…</td><td>[&quot;0x8c5be1e5ebec7d5bd14f71427d1e84f3dd0314c0f7b2291e5b200ac8c7c3b925&quot;, &quot;0x000000000000000000000000ddcf904464166ac74629241ba21199adee3a04ad&quot;, &quot;0x000000000000000000000000000000000022d473030f116ddee9f6b43ac78ba3&quot;]</td><td>&quot;0x0000000000000000000000000000…</td><td>18075613</td><td>&quot;0x2ff7504a7a29a40ce3eed4a0b949…</td><td>1693981475</td><td>11040472755</td><td>45889</td><td>133</td><td>&quot;0xba247d2b2f6d69e5f6cc558cf455…</td><td>70</td><td>1</td><td>&quot;0xf939e0a03fb07f59a73314e73794…</td><td>&quot;ethereum&quot;</td></tr><tr><td>&quot;0xf939e0a03fb07f59a73314e73794…</td><td>[&quot;0xddf252ad1be2c89b69c2b068fc378daa952ba7f163c4a11628f55a4df523b3ef&quot;, &quot;0x0000000000000000000000002889302a794da87fbf1d6db415c1492194663d13&quot;, &quot;0x00000000000000000000000000000000009e50a7ddb7a7b0e2ee6604fd120e49&quot;]</td><td>&quot;0x0000000000000000000000000000…</td><td>18417599</td><td>&quot;0x6f103c0b225c27b3b1e0b364606f…</td><td>1698120035</td><td>29298727028</td><td>486806</td><td>86</td><td>&quot;0x8847a1f7c32c1604dad8fd17555f…</td><td>10</td><td>1</td><td>&quot;0xf939e0a03fb07f59a73314e73794…</td><td>&quot;ethereum&quot;</td></tr><tr><td>&quot;0xf939e0a03fb07f59a73314e73794…</td><td>[&quot;0xddf252ad1be2c89b69c2b068fc378daa952ba7f163c4a11628f55a4df523b3ef&quot;, &quot;0x0000000000000000000000004ebdf703948ddcea3b11f675b4d1fba9d2414a14&quot;, &quot;0x0000000000000000000000009008d19f58aabd9ed0d60971565aa8510560ab41&quot;]</td><td>&quot;0x0000000000000000000000000000…</td><td>18292709</td><td>&quot;0xb9d4e71b6ba4f978e3be751cea8a…</td><td>1696610411</td><td>12314041071</td><td>461301</td><td>88</td><td>&quot;0x3519ee46d524977b768722ad9bd4…</td><td>16</td><td>1</td><td>&quot;0xf939e0a03fb07f59a73314e73794…</td><td>&quot;ethereum&quot;</td></tr><tr><td>&quot;0xf939e0a03fb07f59a73314e73794…</td><td>[&quot;0xddf252ad1be2c89b69c2b068fc378daa952ba7f163c4a11628f55a4df523b3ef&quot;, &quot;0x0000000000000000000000004e59541306910ad6dc1dac0ac9dfb29bd9f15c67&quot;, &quot;0x000000000000000000000000ecb456ea5365865ebab8a2661b0c503410e9b347&quot;]</td><td>&quot;0x0000000000000000000000000000…</td><td>18425571</td><td>&quot;0x3e6aa36e636b5dfbc06cd006a304…</td><td>1698216527</td><td>14854870912</td><td>386862</td><td>35</td><td>&quot;0x0064b3031a87e54d2e5bb85c1d20…</td><td>8</td><td>1</td><td>&quot;0xf939e0a03fb07f59a73314e73794…</td><td>&quot;ethereum&quot;</td></tr><tr><td>&quot;0xf939e0a03fb07f59a73314e73794…</td><td>[&quot;0xddf252ad1be2c89b69c2b068fc378daa952ba7f163c4a11628f55a4df523b3ef&quot;, &quot;0x000000000000000000000000390f3595bca2df7d23783dfd126427cceb997bf4&quot;, &quot;0x0000000000000000000000002c6a3cd97c6283b95ac8c5a4459ebb0d5fd404f4&quot;]</td><td>&quot;0x0000000000000000000000000000…</td><td>18325965</td><td>&quot;0xc06e77862f4f446b7418ed419c76…</td><td>1697012363</td><td>8216857963</td><td>1059442</td><td>95</td><td>&quot;0x5ead226871c2805ad83186586c70…</td><td>8</td><td>1</td><td>&quot;0xf939e0a03fb07f59a73314e73794…</td><td>&quot;ethereum&quot;</td></tr></tbody></table></div>"
      ],
      "text/plain": [
       "shape: (64_153, 14)\n",
       "┌────────────┬────────────┬───────────┬───────────┬───┬───────────┬─────────┬───────────┬──────────┐\n",
       "│ address    ┆ topics     ┆ data      ┆ blockNumb ┆ … ┆ transacti ┆ chainid ┆ contract_ ┆ chain    │\n",
       "│ ---        ┆ ---        ┆ ---       ┆ er        ┆   ┆ onIndex   ┆ ---     ┆ address   ┆ ---      │\n",
       "│ str        ┆ list[str]  ┆ str       ┆ ---       ┆   ┆ ---       ┆ i64     ┆ ---       ┆ str      │\n",
       "│            ┆            ┆           ┆ i64       ┆   ┆ i64       ┆         ┆ str       ┆          │\n",
       "╞════════════╪════════════╪═══════════╪═══════════╪═══╪═══════════╪═════════╪═══════════╪══════════╡\n",
       "│ 0xf939e0a0 ┆ [\"0xddf252 ┆ 0x0000000 ┆ 18421663  ┆ … ┆ 9         ┆ 1       ┆ 0xf939e0a ┆ ethereum │\n",
       "│ 3fb07f59a7 ┆ ad1be2c89b ┆ 000000000 ┆           ┆   ┆           ┆         ┆ 03fb07f59 ┆          │\n",
       "│ 3314e73794 ┆ 69c2b068fc ┆ 000000000 ┆           ┆   ┆           ┆         ┆ a73314e73 ┆          │\n",
       "│ …          ┆ …          ┆ 000…      ┆           ┆   ┆           ┆         ┆ 794…      ┆          │\n",
       "│ 0xf939e0a0 ┆ [\"0x8c5be1 ┆ 0x0000000 ┆ 18239007  ┆ … ┆ 182       ┆ 1       ┆ 0xf939e0a ┆ ethereum │\n",
       "│ 3fb07f59a7 ┆ e5ebec7d5b ┆ 000000000 ┆           ┆   ┆           ┆         ┆ 03fb07f59 ┆          │\n",
       "│ 3314e73794 ┆ d14f71427d ┆ 000000000 ┆           ┆   ┆           ┆         ┆ a73314e73 ┆          │\n",
       "│ …          ┆ …          ┆ 000…      ┆           ┆   ┆           ┆         ┆ 794…      ┆          │\n",
       "│ 0xf939e0a0 ┆ [\"0xddf252 ┆ 0x0000000 ┆ 18291325  ┆ … ┆ 133       ┆ 1       ┆ 0xf939e0a ┆ ethereum │\n",
       "│ 3fb07f59a7 ┆ ad1be2c89b ┆ 000000000 ┆           ┆   ┆           ┆         ┆ 03fb07f59 ┆          │\n",
       "│ 3314e73794 ┆ 69c2b068fc ┆ 000000000 ┆           ┆   ┆           ┆         ┆ a73314e73 ┆          │\n",
       "│ …          ┆ …          ┆ 000…      ┆           ┆   ┆           ┆         ┆ 794…      ┆          │\n",
       "│ 0xf939e0a0 ┆ [\"0xddf252 ┆ 0x0000000 ┆ 18367547  ┆ … ┆ 12        ┆ 1       ┆ 0xf939e0a ┆ ethereum │\n",
       "│ 3fb07f59a7 ┆ ad1be2c89b ┆ 000000000 ┆           ┆   ┆           ┆         ┆ 03fb07f59 ┆          │\n",
       "│ 3314e73794 ┆ 69c2b068fc ┆ 000000000 ┆           ┆   ┆           ┆         ┆ a73314e73 ┆          │\n",
       "│ …          ┆ …          ┆ 000…      ┆           ┆   ┆           ┆         ┆ 794…      ┆          │\n",
       "│ 0xf939e0a0 ┆ [\"0xddf252 ┆ 0x0000000 ┆ 18417664  ┆ … ┆ 23        ┆ 1       ┆ 0xf939e0a ┆ ethereum │\n",
       "│ 3fb07f59a7 ┆ ad1be2c89b ┆ 000000000 ┆           ┆   ┆           ┆         ┆ 03fb07f59 ┆          │\n",
       "│ 3314e73794 ┆ 69c2b068fc ┆ 000000000 ┆           ┆   ┆           ┆         ┆ a73314e73 ┆          │\n",
       "│ …          ┆ …          ┆ 000…      ┆           ┆   ┆           ┆         ┆ 794…      ┆          │\n",
       "│ …          ┆ …          ┆ …         ┆ …         ┆ … ┆ …         ┆ …       ┆ …         ┆ …        │\n",
       "│ 0xf939e0a0 ┆ [\"0x8c5be1 ┆ 0x0000000 ┆ 18075613  ┆ … ┆ 70        ┆ 1       ┆ 0xf939e0a ┆ ethereum │\n",
       "│ 3fb07f59a7 ┆ e5ebec7d5b ┆ 000000000 ┆           ┆   ┆           ┆         ┆ 03fb07f59 ┆          │\n",
       "│ 3314e73794 ┆ d14f71427d ┆ 000000000 ┆           ┆   ┆           ┆         ┆ a73314e73 ┆          │\n",
       "│ …          ┆ …          ┆ 000…      ┆           ┆   ┆           ┆         ┆ 794…      ┆          │\n",
       "│ 0xf939e0a0 ┆ [\"0xddf252 ┆ 0x0000000 ┆ 18417599  ┆ … ┆ 10        ┆ 1       ┆ 0xf939e0a ┆ ethereum │\n",
       "│ 3fb07f59a7 ┆ ad1be2c89b ┆ 000000000 ┆           ┆   ┆           ┆         ┆ 03fb07f59 ┆          │\n",
       "│ 3314e73794 ┆ 69c2b068fc ┆ 000000000 ┆           ┆   ┆           ┆         ┆ a73314e73 ┆          │\n",
       "│ …          ┆ …          ┆ 000…      ┆           ┆   ┆           ┆         ┆ 794…      ┆          │\n",
       "│ 0xf939e0a0 ┆ [\"0xddf252 ┆ 0x0000000 ┆ 18292709  ┆ … ┆ 16        ┆ 1       ┆ 0xf939e0a ┆ ethereum │\n",
       "│ 3fb07f59a7 ┆ ad1be2c89b ┆ 000000000 ┆           ┆   ┆           ┆         ┆ 03fb07f59 ┆          │\n",
       "│ 3314e73794 ┆ 69c2b068fc ┆ 000000000 ┆           ┆   ┆           ┆         ┆ a73314e73 ┆          │\n",
       "│ …          ┆ …          ┆ 000…      ┆           ┆   ┆           ┆         ┆ 794…      ┆          │\n",
       "│ 0xf939e0a0 ┆ [\"0xddf252 ┆ 0x0000000 ┆ 18425571  ┆ … ┆ 8         ┆ 1       ┆ 0xf939e0a ┆ ethereum │\n",
       "│ 3fb07f59a7 ┆ ad1be2c89b ┆ 000000000 ┆           ┆   ┆           ┆         ┆ 03fb07f59 ┆          │\n",
       "│ 3314e73794 ┆ 69c2b068fc ┆ 000000000 ┆           ┆   ┆           ┆         ┆ a73314e73 ┆          │\n",
       "│ …          ┆ …          ┆ 000…      ┆           ┆   ┆           ┆         ┆ 794…      ┆          │\n",
       "│ 0xf939e0a0 ┆ [\"0xddf252 ┆ 0x0000000 ┆ 18325965  ┆ … ┆ 8         ┆ 1       ┆ 0xf939e0a ┆ ethereum │\n",
       "│ 3fb07f59a7 ┆ ad1be2c89b ┆ 000000000 ┆           ┆   ┆           ┆         ┆ 03fb07f59 ┆          │\n",
       "│ 3314e73794 ┆ 69c2b068fc ┆ 000000000 ┆           ┆   ┆           ┆         ┆ a73314e73 ┆          │\n",
       "│ …          ┆ …          ┆ 000…      ┆           ┆   ┆           ┆         ┆ 794…      ┆          │\n",
       "└────────────┴────────────┴───────────┴───────────┴───┴───────────┴─────────┴───────────┴──────────┘"
      ]
     },
     "execution_count": 12,
     "metadata": {},
     "output_type": "execute_result"
    }
   ],
   "source": [
    "df.filter(\n",
    "    (pl.col('blockNumber') >= 18_000_000)\n",
    "    &(pl.col('blockNumber') <= 18_500_000)\n",
    ")"
   ]
  },
  {
   "cell_type": "markdown",
   "id": "194c60d7",
   "metadata": {},
   "source": [
    "2025-10-12 17:05:38 - onchaindata.data_extraction.etherscan - INFO - Got 0xf939e0a03fb07f59a73314e73794be0e57ac1b4e - ethereum - logs - 18000000-18049999: 5697\n",
    "2025-10-12 17:05:40 - onchaindata.data_extraction.etherscan - INFO - Got 0xf939e0a03fb07f59a73314e73794be0e57ac1b4e - ethereum - logs - 18050000-18099999: 3900\n",
    "2025-10-12 17:05:42 - onchaindata.data_extraction.etherscan - INFO - Got 0xf939e0a03fb07f59a73314e73794be0e57ac1b4e - ethereum - logs - 18100000-18149999: 4931\n",
    "2025-10-12 17:05:44 - onchaindata.data_extraction.etherscan - INFO - Got 0xf939e0a03fb07f59a73314e73794be0e57ac1b4e - ethereum - logs - 18150000-18199999: 4767\n",
    "2025-10-12 17:05:46 - onchaindata.data_extraction.etherscan - INFO - Got 0xf939e0a03fb07f59a73314e73794be0e57ac1b4e - ethereum - logs - 18200000-18249999: 4974\n",
    "2025-10-12 17:05:51 - onchaindata.data_extraction.etherscan - INFO - Got 0xf939e0a03fb07f59a73314e73794be0e57ac1b4e - ethereum - logs - 18250000-18299999: 6048\n",
    "2025-10-12 17:05:58 - onchaindata.data_extraction.etherscan - INFO - Got 0xf939e0a03fb07f59a73314e73794be0e57ac1b4e - ethereum - logs - 18300000-18349999: 7349\n",
    "2025-10-12 17:06:04 - onchaindata.data_extraction.etherscan - INFO - Got 0xf939e0a03fb07f59a73314e73794be0e57ac1b4e - ethereum - logs - 18350000-18399999: 6851\n",
    "\n",
    "2025-10-12 17:06:13,191|[WARNING]|291254|131523652328512|dlt|client.py|extract_response:286|Extracted data is None for path result, returning empty list\n",
    "\n",
    "2025-10-12 17:06:13 - onchaindata.data_extraction.etherscan - INFO - Got 0xf939e0a03fb07f59a73314e73794be0e57ac1b4e - ethereum - logs - 18400000-18449999: 10000\n",
    "\n",
    "2025-10-12 17:06:23,720|[WARNING]|291254|131523652328512|dlt|client.py|extract_response:286|Extracted data is None for path result, returning empty list\n",
    "\n",
    "2025-10-12 17:06:23 - onchaindata.data_extraction.etherscan - INFO - Got 0xf939e0a03fb07f59a73314e73794be0e57ac1b4e - ethereum - logs - 18450000-18499999: 9636"
   ]
  },
  {
   "cell_type": "code",
   "execution_count": 10,
   "id": "87aeb520",
   "metadata": {},
   "outputs": [
    {
     "name": "stdout",
     "output_type": "stream",
     "text": [
      "18400000 18450000\n",
      "18450000 18500000\n"
     ]
    }
   ],
   "source": [
    "# for chunk_start in range(18400000, 18450000 + 1, 50000):\n",
    "#     print(chunk_start)\n",
    "from_block = 18400000\n",
    "end_block  = 18500000\n",
    "block_chunk_size = 50000\n",
    "for chunk_start in range(from_block, end_block - block_chunk_size + 1, block_chunk_size):\n",
    "    chunk_end = min(chunk_start + block_chunk_size, end_block)\n",
    "    print(chunk_start, chunk_end)"
   ]
  }
 ],
 "metadata": {
  "kernelspec": {
   "display_name": ".venv",
   "language": "python",
   "name": "python3"
  },
  "language_info": {
   "codemirror_mode": {
    "name": "ipython",
    "version": 3
   },
   "file_extension": ".py",
   "mimetype": "text/x-python",
   "name": "python",
   "nbconvert_exporter": "python",
   "pygments_lexer": "ipython3",
   "version": "3.11.11"
  }
 },
 "nbformat": 4,
 "nbformat_minor": 5
}
