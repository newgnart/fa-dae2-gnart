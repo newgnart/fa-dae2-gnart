{
 "cells": [
  {
   "cell_type": "code",
   "execution_count": 4,
   "id": "f477c2c6",
   "metadata": {},
   "outputs": [],
   "source": [
    "import polars as pl\n",
    "from pathlib import Path\n",
    "\n",
    "rootdir = Path.cwd().parent"
   ]
  },
  {
   "cell_type": "code",
   "execution_count": 17,
   "id": "17cf7937",
   "metadata": {},
   "outputs": [
    {
     "data": {
      "text/html": [
       "<div><style>\n",
       ".dataframe > thead > tr,\n",
       ".dataframe > tbody > tr {\n",
       "  text-align: right;\n",
       "  white-space: pre-wrap;\n",
       "}\n",
       "</style>\n",
       "<small>shape: (18_393, 12)</small><table border=\"1\" class=\"dataframe\"><thead><tr><th>address</th><th>topics</th><th>data</th><th>blockNumber</th><th>blockHash</th><th>timeStamp</th><th>gasPrice</th><th>gasUsed</th><th>logIndex</th><th>transactionHash</th><th>transactionIndex</th><th>chain</th></tr><tr><td>str</td><td>list[str]</td><td>str</td><td>i64</td><td>str</td><td>i64</td><td>i64</td><td>i64</td><td>i64</td><td>str</td><td>i64</td><td>str</td></tr></thead><tbody><tr><td>&quot;0xf939e0a03fb07f59a73314e73794…</td><td>[&quot;0xddf252ad1be2c89b69c2b068fc378daa952ba7f163c4a11628f55a4df523b3ef&quot;, &quot;0x000000000000000000000000207e1074858a7e78f17002075739ed2745dbaece&quot;, &quot;0x0000000000000000000000009fee65d5a627e73212989c8bbedc5fa5cae3821f&quot;]</td><td>&quot;0x0000000000000000000000000000…</td><td>23558959</td><td>&quot;0x67a80cd12fdd862f8ed81c3d2f06…</td><td>1760239751</td><td>298774080</td><td>709291</td><td>517</td><td>&quot;0x4b4b0ca7ab75feab0edcd9146e95…</td><td>51</td><td>&quot;ethereum&quot;</td></tr><tr><td>&quot;0xf939e0a03fb07f59a73314e73794…</td><td>[&quot;0xddf252ad1be2c89b69c2b068fc378daa952ba7f163c4a11628f55a4df523b3ef&quot;, &quot;0x000000000000000000000000afca625321df8d6a068bdd8f1585d489d2acf11b&quot;, &quot;0x00000000000000000000000000000000009e50a7ddb7a7b0e2ee6604fd120e49&quot;]</td><td>&quot;0x0000000000000000000000000000…</td><td>23569918</td><td>&quot;0xf570fda568b7e3afa239d14626c7…</td><td>1760372147</td><td>1017047690</td><td>842402</td><td>394</td><td>&quot;0x366ad8441a9841f51b731efcce3a…</td><td>75</td><td>&quot;ethereum&quot;</td></tr><tr><td>&quot;0xf939e0a03fb07f59a73314e73794…</td><td>[&quot;0xddf252ad1be2c89b69c2b068fc378daa952ba7f163c4a11628f55a4df523b3ef&quot;, &quot;0x0000000000000000000000004ebdf703948ddcea3b11f675b4d1fba9d2414a14&quot;, &quot;0x0000000000000000000000009008d19f58aabd9ed0d60971565aa8510560ab41&quot;]</td><td>&quot;0x0000000000000000000000000000…</td><td>23570698</td><td>&quot;0xad299ef04e0816d1bc4a45916353…</td><td>1760381603</td><td>1495150103</td><td>363457</td><td>329</td><td>&quot;0x6f9876cad3a9f526937d698c5769…</td><td>123</td><td>&quot;ethereum&quot;</td></tr><tr><td>&quot;0xf939e0a03fb07f59a73314e73794…</td><td>[&quot;0xddf252ad1be2c89b69c2b068fc378daa952ba7f163c4a11628f55a4df523b3ef&quot;, &quot;0x00000000000000000000000050bf20318ce9100ac4374ab4bed5fe4b1f8cc6b3&quot;, &quot;0x0000000000000000000000004dece678ceceb27446b35c672dc7d61f30bad69e&quot;]</td><td>&quot;0x0000000000000000000000000000…</td><td>23561520</td><td>&quot;0x03f80c698da498eae0fac0729d1f…</td><td>1760270591</td><td>137292846</td><td>2980707</td><td>279</td><td>&quot;0xd94ecd9590f719e8153561d7907e…</td><td>22</td><td>&quot;ethereum&quot;</td></tr><tr><td>&quot;0xf939e0a03fb07f59a73314e73794…</td><td>[&quot;0xddf252ad1be2c89b69c2b068fc378daa952ba7f163c4a11628f55a4df523b3ef&quot;, &quot;0x000000000000000000000000d16d5ec345dd86fb63c6a9c43c517210f1027914&quot;, &quot;0x000000000000000000000000545dcada14f776ac0a7716f1b651b5d4d4cd0d29&quot;]</td><td>&quot;0x0000000000000000000000000000…</td><td>23559118</td><td>&quot;0x8f9701f15960950a941ee4757957…</td><td>1760241659</td><td>175315090</td><td>187351</td><td>653</td><td>&quot;0x98764fd8170143af16e370636367…</td><td>178</td><td>&quot;ethereum&quot;</td></tr><tr><td>&hellip;</td><td>&hellip;</td><td>&hellip;</td><td>&hellip;</td><td>&hellip;</td><td>&hellip;</td><td>&hellip;</td><td>&hellip;</td><td>&hellip;</td><td>&hellip;</td><td>&hellip;</td><td>&hellip;</td></tr><tr><td>&quot;0xf939e0a03fb07f59a73314e73794…</td><td>[&quot;0xddf252ad1be2c89b69c2b068fc378daa952ba7f163c4a11628f55a4df523b3ef&quot;, &quot;0x000000000000000000000000a564e6976b159864c51edb7c32066d001f430444&quot;, &quot;0x0000000000000000000000004dece678ceceb27446b35c672dc7d61f30bad69e&quot;]</td><td>&quot;0x0000000000000000000000000000…</td><td>23562900</td><td>&quot;0x41536624031ac5385816604a667f…</td><td>1760287259</td><td>1473437899</td><td>2873791</td><td>274</td><td>&quot;0x5fb95739c48a9f593da391637ce3…</td><td>51</td><td>&quot;ethereum&quot;</td></tr><tr><td>&quot;0xf939e0a03fb07f59a73314e73794…</td><td>[&quot;0x8c5be1e5ebec7d5bd14f71427d1e84f3dd0314c0f7b2291e5b200ac8c7c3b925&quot;, &quot;0x0000000000000000000000008d8f598c1739e518b871815dd1f20ea3c169c360&quot;, &quot;0x0000000000000000000000004ebdf703948ddcea3b11f675b4d1fba9d2414a14&quot;]</td><td>&quot;0x0000000000000000000000000000…</td><td>23565020</td><td>&quot;0x98acfc2017ca25006b2c0286eb90…</td><td>1760312867</td><td>1653618107</td><td>490495</td><td>108</td><td>&quot;0x33b40975b7c6282cdcb27bd471da…</td><td>15</td><td>&quot;ethereum&quot;</td></tr><tr><td>&quot;0xf939e0a03fb07f59a73314e73794…</td><td>[&quot;0x8c5be1e5ebec7d5bd14f71427d1e84f3dd0314c0f7b2291e5b200ac8c7c3b925&quot;, &quot;0x00000000000000000000000064f2095cc11e4726078f4a64d4279c7e7fb7e6ec&quot;, &quot;0x0000000000000000000000004ebdf703948ddcea3b11f675b4d1fba9d2414a14&quot;]</td><td>&quot;0x0000000000000000000000000000…</td><td>23563683</td><td>&quot;0xc213010a0a7600eec684d3b97348…</td><td>1760296715</td><td>458975370</td><td>948761</td><td>151</td><td>&quot;0xe289a587daea65cf263e0592d942…</td><td>27</td><td>&quot;ethereum&quot;</td></tr><tr><td>&quot;0xf939e0a03fb07f59a73314e73794…</td><td>[&quot;0x8c5be1e5ebec7d5bd14f71427d1e84f3dd0314c0f7b2291e5b200ac8c7c3b925&quot;, &quot;0x0000000000000000000000005141b82f5ffda4c6fe1e372978f1c5427640a190&quot;, &quot;0x0000000000000000000000009995855c00494d039ab6792f18e368e530dff931&quot;]</td><td>&quot;0x0000000000000000000000000000…</td><td>23564519</td><td>&quot;0xbbda9b2cb20093f77e9479035b6b…</td><td>1760306807</td><td>305835766</td><td>570295</td><td>1374</td><td>&quot;0x3cc8de877f67a6d22b823a49d802…</td><td>237</td><td>&quot;ethereum&quot;</td></tr><tr><td>&quot;0xf939e0a03fb07f59a73314e73794…</td><td>[&quot;0xddf252ad1be2c89b69c2b068fc378daa952ba7f163c4a11628f55a4df523b3ef&quot;, &quot;0x000000000000000000000000635ef0056a597d13863b73825cca297236578595&quot;, &quot;0x0000000000000000000000006e4141d33021b52c91c28608403db4a0ffb50ec6&quot;]</td><td>&quot;0x0000000000000000000000000000…</td><td>23568545</td><td>&quot;0xf050890d9719dda3b868ebe1fe71…</td><td>1760355515</td><td>851358232</td><td>597705</td><td>449</td><td>&quot;0xca8feb557b3a3d122330b132bb5b…</td><td>141</td><td>&quot;ethereum&quot;</td></tr></tbody></table></div>"
      ],
      "text/plain": [
       "shape: (18_393, 12)\n",
       "┌────────────┬───────────┬───────────┬───────────┬───┬──────────┬───────────┬───────────┬──────────┐\n",
       "│ address    ┆ topics    ┆ data      ┆ blockNumb ┆ … ┆ logIndex ┆ transacti ┆ transacti ┆ chain    │\n",
       "│ ---        ┆ ---       ┆ ---       ┆ er        ┆   ┆ ---      ┆ onHash    ┆ onIndex   ┆ ---      │\n",
       "│ str        ┆ list[str] ┆ str       ┆ ---       ┆   ┆ i64      ┆ ---       ┆ ---       ┆ str      │\n",
       "│            ┆           ┆           ┆ i64       ┆   ┆          ┆ str       ┆ i64       ┆          │\n",
       "╞════════════╪═══════════╪═══════════╪═══════════╪═══╪══════════╪═══════════╪═══════════╪══════════╡\n",
       "│ 0xf939e0a0 ┆ [\"0xddf25 ┆ 0x0000000 ┆ 23558959  ┆ … ┆ 517      ┆ 0x4b4b0ca ┆ 51        ┆ ethereum │\n",
       "│ 3fb07f59a7 ┆ 2ad1be2c8 ┆ 000000000 ┆           ┆   ┆          ┆ 7ab75feab ┆           ┆          │\n",
       "│ 3314e73794 ┆ 9b69c2b06 ┆ 000000000 ┆           ┆   ┆          ┆ 0edcd9146 ┆           ┆          │\n",
       "│ …          ┆ 8fc…      ┆ 000…      ┆           ┆   ┆          ┆ e95…      ┆           ┆          │\n",
       "│ 0xf939e0a0 ┆ [\"0xddf25 ┆ 0x0000000 ┆ 23569918  ┆ … ┆ 394      ┆ 0x366ad84 ┆ 75        ┆ ethereum │\n",
       "│ 3fb07f59a7 ┆ 2ad1be2c8 ┆ 000000000 ┆           ┆   ┆          ┆ 41a9841f5 ┆           ┆          │\n",
       "│ 3314e73794 ┆ 9b69c2b06 ┆ 000000000 ┆           ┆   ┆          ┆ 1b731efcc ┆           ┆          │\n",
       "│ …          ┆ 8fc…      ┆ 000…      ┆           ┆   ┆          ┆ e3a…      ┆           ┆          │\n",
       "│ 0xf939e0a0 ┆ [\"0xddf25 ┆ 0x0000000 ┆ 23570698  ┆ … ┆ 329      ┆ 0x6f9876c ┆ 123       ┆ ethereum │\n",
       "│ 3fb07f59a7 ┆ 2ad1be2c8 ┆ 000000000 ┆           ┆   ┆          ┆ ad3a9f526 ┆           ┆          │\n",
       "│ 3314e73794 ┆ 9b69c2b06 ┆ 000000000 ┆           ┆   ┆          ┆ 937d698c5 ┆           ┆          │\n",
       "│ …          ┆ 8fc…      ┆ 000…      ┆           ┆   ┆          ┆ 769…      ┆           ┆          │\n",
       "│ 0xf939e0a0 ┆ [\"0xddf25 ┆ 0x0000000 ┆ 23561520  ┆ … ┆ 279      ┆ 0xd94ecd9 ┆ 22        ┆ ethereum │\n",
       "│ 3fb07f59a7 ┆ 2ad1be2c8 ┆ 000000000 ┆           ┆   ┆          ┆ 590f719e8 ┆           ┆          │\n",
       "│ 3314e73794 ┆ 9b69c2b06 ┆ 000000000 ┆           ┆   ┆          ┆ 153561d79 ┆           ┆          │\n",
       "│ …          ┆ 8fc…      ┆ 000…      ┆           ┆   ┆          ┆ 07e…      ┆           ┆          │\n",
       "│ 0xf939e0a0 ┆ [\"0xddf25 ┆ 0x0000000 ┆ 23559118  ┆ … ┆ 653      ┆ 0x98764fd ┆ 178       ┆ ethereum │\n",
       "│ 3fb07f59a7 ┆ 2ad1be2c8 ┆ 000000000 ┆           ┆   ┆          ┆ 8170143af ┆           ┆          │\n",
       "│ 3314e73794 ┆ 9b69c2b06 ┆ 000000000 ┆           ┆   ┆          ┆ 16e370636 ┆           ┆          │\n",
       "│ …          ┆ 8fc…      ┆ 000…      ┆           ┆   ┆          ┆ 367…      ┆           ┆          │\n",
       "│ …          ┆ …         ┆ …         ┆ …         ┆ … ┆ …        ┆ …         ┆ …         ┆ …        │\n",
       "│ 0xf939e0a0 ┆ [\"0xddf25 ┆ 0x0000000 ┆ 23562900  ┆ … ┆ 274      ┆ 0x5fb9573 ┆ 51        ┆ ethereum │\n",
       "│ 3fb07f59a7 ┆ 2ad1be2c8 ┆ 000000000 ┆           ┆   ┆          ┆ 9c48a9f59 ┆           ┆          │\n",
       "│ 3314e73794 ┆ 9b69c2b06 ┆ 000000000 ┆           ┆   ┆          ┆ 3da391637 ┆           ┆          │\n",
       "│ …          ┆ 8fc…      ┆ 000…      ┆           ┆   ┆          ┆ ce3…      ┆           ┆          │\n",
       "│ 0xf939e0a0 ┆ [\"0x8c5be ┆ 0x0000000 ┆ 23565020  ┆ … ┆ 108      ┆ 0x33b4097 ┆ 15        ┆ ethereum │\n",
       "│ 3fb07f59a7 ┆ 1e5ebec7d ┆ 000000000 ┆           ┆   ┆          ┆ 5b7c6282c ┆           ┆          │\n",
       "│ 3314e73794 ┆ 5bd14f714 ┆ 000000000 ┆           ┆   ┆          ┆ dcb27bd47 ┆           ┆          │\n",
       "│ …          ┆ 27d…      ┆ 000…      ┆           ┆   ┆          ┆ 1da…      ┆           ┆          │\n",
       "│ 0xf939e0a0 ┆ [\"0x8c5be ┆ 0x0000000 ┆ 23563683  ┆ … ┆ 151      ┆ 0xe289a58 ┆ 27        ┆ ethereum │\n",
       "│ 3fb07f59a7 ┆ 1e5ebec7d ┆ 000000000 ┆           ┆   ┆          ┆ 7daea65cf ┆           ┆          │\n",
       "│ 3314e73794 ┆ 5bd14f714 ┆ 000000000 ┆           ┆   ┆          ┆ 263e0592d ┆           ┆          │\n",
       "│ …          ┆ 27d…      ┆ 000…      ┆           ┆   ┆          ┆ 942…      ┆           ┆          │\n",
       "│ 0xf939e0a0 ┆ [\"0x8c5be ┆ 0x0000000 ┆ 23564519  ┆ … ┆ 1374     ┆ 0x3cc8de8 ┆ 237       ┆ ethereum │\n",
       "│ 3fb07f59a7 ┆ 1e5ebec7d ┆ 000000000 ┆           ┆   ┆          ┆ 77f67a6d2 ┆           ┆          │\n",
       "│ 3314e73794 ┆ 5bd14f714 ┆ 000000000 ┆           ┆   ┆          ┆ 2b823a49d ┆           ┆          │\n",
       "│ …          ┆ 27d…      ┆ 000…      ┆           ┆   ┆          ┆ 802…      ┆           ┆          │\n",
       "│ 0xf939e0a0 ┆ [\"0xddf25 ┆ 0x0000000 ┆ 23568545  ┆ … ┆ 449      ┆ 0xca8feb5 ┆ 141       ┆ ethereum │\n",
       "│ 3fb07f59a7 ┆ 2ad1be2c8 ┆ 000000000 ┆           ┆   ┆          ┆ 57b3a3d12 ┆           ┆          │\n",
       "│ 3314e73794 ┆ 9b69c2b06 ┆ 000000000 ┆           ┆   ┆          ┆ 2330b132b ┆           ┆          │\n",
       "│ …          ┆ 8fc…      ┆ 000…      ┆           ┆   ┆          ┆ b5b…      ┆           ┆          │\n",
       "└────────────┴───────────┴───────────┴───────────┴───┴──────────┴───────────┴───────────┴──────────┘"
      ]
     },
     "execution_count": 17,
     "metadata": {},
     "output_type": "execute_result"
    }
   ],
   "source": [
    "file_path = rootdir / '.data/etherscan_raw/ethereum_0xf939e0a03fb07f59a73314e73794be0e57ac1b4e_logs_23558903_23573205.parquet'\n",
    "\n",
    "df = pl.read_parquet(file_path)\n",
    "df"
   ]
  },
  {
   "cell_type": "code",
   "execution_count": 16,
   "id": "a95eb26d",
   "metadata": {},
   "outputs": [
    {
     "data": {
      "text/plain": [
       "(23522981, 23573034)"
      ]
     },
     "execution_count": 16,
     "metadata": {},
     "output_type": "execute_result"
    }
   ],
   "source": [
    "df['blockNumber'].min(), df['blockNumber'].max()"
   ]
  },
  {
   "cell_type": "code",
   "execution_count": 12,
   "id": "f2ff2729",
   "metadata": {},
   "outputs": [
    {
     "data": {
      "text/html": [
       "<div><style>\n",
       ".dataframe > thead > tr,\n",
       ".dataframe > tbody > tr {\n",
       "  text-align: right;\n",
       "  white-space: pre-wrap;\n",
       "}\n",
       "</style>\n",
       "<small>shape: (64_153, 14)</small><table border=\"1\" class=\"dataframe\"><thead><tr><th>address</th><th>topics</th><th>data</th><th>blockNumber</th><th>blockHash</th><th>timeStamp</th><th>gasPrice</th><th>gasUsed</th><th>logIndex</th><th>transactionHash</th><th>transactionIndex</th><th>chainid</th><th>contract_address</th><th>chain</th></tr><tr><td>str</td><td>list[str]</td><td>str</td><td>i64</td><td>str</td><td>i64</td><td>i64</td><td>i64</td><td>i64</td><td>str</td><td>i64</td><td>i64</td><td>str</td><td>str</td></tr></thead><tbody><tr><td>&quot;0xf939e0a03fb07f59a73314e73794…</td><td>[&quot;0xddf252ad1be2c89b69c2b068fc378daa952ba7f163c4a11628f55a4df523b3ef&quot;, &quot;0x000000000000000000000000ed4608ceed04a40ee3d2a8cb247e9271745ab151&quot;, &quot;0x00000000000000000000000073ea3d8ba3d7380201b270ec504b33ed5e478542&quot;]</td><td>&quot;0x0000000000000000000000000000…</td><td>18421663</td><td>&quot;0x623aabd44e3604a3597cece26049…</td><td>1698169211</td><td>26739204596</td><td>289383</td><td>69</td><td>&quot;0x845e60508f0a8b341b7ec2eb1829…</td><td>9</td><td>1</td><td>&quot;0xf939e0a03fb07f59a73314e73794…</td><td>&quot;ethereum&quot;</td></tr><tr><td>&quot;0xf939e0a03fb07f59a73314e73794…</td><td>[&quot;0x8c5be1e5ebec7d5bd14f71427d1e84f3dd0314c0f7b2291e5b200ac8c7c3b925&quot;, &quot;0x000000000000000000000000e37e799d5077682fa0a244d46e5649f71457bd09&quot;, &quot;0x0000000000000000000000004ebdf703948ddcea3b11f675b4d1fba9d2414a14&quot;]</td><td>&quot;0x0000000000000000000000000000…</td><td>18239007</td><td>&quot;0x7688329cf65d75e332329cd33d23…</td><td>1695961835</td><td>7000000000</td><td>327724</td><td>553</td><td>&quot;0x04f0ec098464622207bbf482697a…</td><td>182</td><td>1</td><td>&quot;0xf939e0a03fb07f59a73314e73794…</td><td>&quot;ethereum&quot;</td></tr><tr><td>&quot;0xf939e0a03fb07f59a73314e73794…</td><td>[&quot;0xddf252ad1be2c89b69c2b068fc378daa952ba7f163c4a11628f55a4df523b3ef&quot;, &quot;0x0000000000000000000000001681195c176239ac5e72d9aebacf5b2492e0c4ee&quot;, &quot;0x0000000000000000000000001111111254eeb25477b68fb85ed929f73a960582&quot;]</td><td>&quot;0x0000000000000000000000000000…</td><td>18291325</td><td>&quot;0xa38eca491da8acf2b3e3986fda6e…</td><td>1696593683</td><td>7511837769</td><td>414031</td><td>336</td><td>&quot;0xe4a92de3d466a38665dd8784e75f…</td><td>133</td><td>1</td><td>&quot;0xf939e0a03fb07f59a73314e73794…</td><td>&quot;ethereum&quot;</td></tr><tr><td>&quot;0xf939e0a03fb07f59a73314e73794…</td><td>[&quot;0xddf252ad1be2c89b69c2b068fc378daa952ba7f163c4a11628f55a4df523b3ef&quot;, &quot;0x0000000000000000000000004ebdf703948ddcea3b11f675b4d1fba9d2414a14&quot;, &quot;0x00000000000000000000000024902aa0cf0000a08c0ea0b003b0c0bf600000e0&quot;]</td><td>&quot;0x0000000000000000000000000000…</td><td>18367547</td><td>&quot;0x0650ea8ab3b769ae2983aa4459c1…</td><td>1697514923</td><td>5454937607</td><td>422851</td><td>57</td><td>&quot;0x4e8399d7d98d18579b6499082006…</td><td>12</td><td>1</td><td>&quot;0xf939e0a03fb07f59a73314e73794…</td><td>&quot;ethereum&quot;</td></tr><tr><td>&quot;0xf939e0a03fb07f59a73314e73794…</td><td>[&quot;0xddf252ad1be2c89b69c2b068fc378daa952ba7f163c4a11628f55a4df523b3ef&quot;, &quot;0x00000000000000000000000073ea3d8ba3d7380201b270ec504b33ed5e478542&quot;, &quot;0x0000000000000000000000009008d19f58aabd9ed0d60971565aa8510560ab41&quot;]</td><td>&quot;0x0000000000000000000000000000…</td><td>18417664</td><td>&quot;0xcf60869476badd9afca8ad706c0d…</td><td>1698120827</td><td>28537523798</td><td>445859</td><td>80</td><td>&quot;0x2de35ebe13316813474edec5ca27…</td><td>23</td><td>1</td><td>&quot;0xf939e0a03fb07f59a73314e73794…</td><td>&quot;ethereum&quot;</td></tr><tr><td>&hellip;</td><td>&hellip;</td><td>&hellip;</td><td>&hellip;</td><td>&hellip;</td><td>&hellip;</td><td>&hellip;</td><td>&hellip;</td><td>&hellip;</td><td>&hellip;</td><td>&hellip;</td><td>&hellip;</td><td>&hellip;</td><td>&hellip;</td></tr><tr><td>&quot;0xf939e0a03fb07f59a73314e73794…</td><td>[&quot;0x8c5be1e5ebec7d5bd14f71427d1e84f3dd0314c0f7b2291e5b200ac8c7c3b925&quot;, &quot;0x000000000000000000000000ddcf904464166ac74629241ba21199adee3a04ad&quot;, &quot;0x000000000000000000000000000000000022d473030f116ddee9f6b43ac78ba3&quot;]</td><td>&quot;0x0000000000000000000000000000…</td><td>18075613</td><td>&quot;0x2ff7504a7a29a40ce3eed4a0b949…</td><td>1693981475</td><td>11040472755</td><td>45889</td><td>133</td><td>&quot;0xba247d2b2f6d69e5f6cc558cf455…</td><td>70</td><td>1</td><td>&quot;0xf939e0a03fb07f59a73314e73794…</td><td>&quot;ethereum&quot;</td></tr><tr><td>&quot;0xf939e0a03fb07f59a73314e73794…</td><td>[&quot;0xddf252ad1be2c89b69c2b068fc378daa952ba7f163c4a11628f55a4df523b3ef&quot;, &quot;0x0000000000000000000000002889302a794da87fbf1d6db415c1492194663d13&quot;, &quot;0x00000000000000000000000000000000009e50a7ddb7a7b0e2ee6604fd120e49&quot;]</td><td>&quot;0x0000000000000000000000000000…</td><td>18417599</td><td>&quot;0x6f103c0b225c27b3b1e0b364606f…</td><td>1698120035</td><td>29298727028</td><td>486806</td><td>86</td><td>&quot;0x8847a1f7c32c1604dad8fd17555f…</td><td>10</td><td>1</td><td>&quot;0xf939e0a03fb07f59a73314e73794…</td><td>&quot;ethereum&quot;</td></tr><tr><td>&quot;0xf939e0a03fb07f59a73314e73794…</td><td>[&quot;0xddf252ad1be2c89b69c2b068fc378daa952ba7f163c4a11628f55a4df523b3ef&quot;, &quot;0x0000000000000000000000004ebdf703948ddcea3b11f675b4d1fba9d2414a14&quot;, &quot;0x0000000000000000000000009008d19f58aabd9ed0d60971565aa8510560ab41&quot;]</td><td>&quot;0x0000000000000000000000000000…</td><td>18292709</td><td>&quot;0xb9d4e71b6ba4f978e3be751cea8a…</td><td>1696610411</td><td>12314041071</td><td>461301</td><td>88</td><td>&quot;0x3519ee46d524977b768722ad9bd4…</td><td>16</td><td>1</td><td>&quot;0xf939e0a03fb07f59a73314e73794…</td><td>&quot;ethereum&quot;</td></tr><tr><td>&quot;0xf939e0a03fb07f59a73314e73794…</td><td>[&quot;0xddf252ad1be2c89b69c2b068fc378daa952ba7f163c4a11628f55a4df523b3ef&quot;, &quot;0x0000000000000000000000004e59541306910ad6dc1dac0ac9dfb29bd9f15c67&quot;, &quot;0x000000000000000000000000ecb456ea5365865ebab8a2661b0c503410e9b347&quot;]</td><td>&quot;0x0000000000000000000000000000…</td><td>18425571</td><td>&quot;0x3e6aa36e636b5dfbc06cd006a304…</td><td>1698216527</td><td>14854870912</td><td>386862</td><td>35</td><td>&quot;0x0064b3031a87e54d2e5bb85c1d20…</td><td>8</td><td>1</td><td>&quot;0xf939e0a03fb07f59a73314e73794…</td><td>&quot;ethereum&quot;</td></tr><tr><td>&quot;0xf939e0a03fb07f59a73314e73794…</td><td>[&quot;0xddf252ad1be2c89b69c2b068fc378daa952ba7f163c4a11628f55a4df523b3ef&quot;, &quot;0x000000000000000000000000390f3595bca2df7d23783dfd126427cceb997bf4&quot;, &quot;0x0000000000000000000000002c6a3cd97c6283b95ac8c5a4459ebb0d5fd404f4&quot;]</td><td>&quot;0x0000000000000000000000000000…</td><td>18325965</td><td>&quot;0xc06e77862f4f446b7418ed419c76…</td><td>1697012363</td><td>8216857963</td><td>1059442</td><td>95</td><td>&quot;0x5ead226871c2805ad83186586c70…</td><td>8</td><td>1</td><td>&quot;0xf939e0a03fb07f59a73314e73794…</td><td>&quot;ethereum&quot;</td></tr></tbody></table></div>"
      ],
      "text/plain": [
       "shape: (64_153, 14)\n",
       "┌────────────┬────────────┬───────────┬───────────┬───┬───────────┬─────────┬───────────┬──────────┐\n",
       "│ address    ┆ topics     ┆ data      ┆ blockNumb ┆ … ┆ transacti ┆ chainid ┆ contract_ ┆ chain    │\n",
       "│ ---        ┆ ---        ┆ ---       ┆ er        ┆   ┆ onIndex   ┆ ---     ┆ address   ┆ ---      │\n",
       "│ str        ┆ list[str]  ┆ str       ┆ ---       ┆   ┆ ---       ┆ i64     ┆ ---       ┆ str      │\n",
       "│            ┆            ┆           ┆ i64       ┆   ┆ i64       ┆         ┆ str       ┆          │\n",
       "╞════════════╪════════════╪═══════════╪═══════════╪═══╪═══════════╪═════════╪═══════════╪══════════╡\n",
       "│ 0xf939e0a0 ┆ [\"0xddf252 ┆ 0x0000000 ┆ 18421663  ┆ … ┆ 9         ┆ 1       ┆ 0xf939e0a ┆ ethereum │\n",
       "│ 3fb07f59a7 ┆ ad1be2c89b ┆ 000000000 ┆           ┆   ┆           ┆         ┆ 03fb07f59 ┆          │\n",
       "│ 3314e73794 ┆ 69c2b068fc ┆ 000000000 ┆           ┆   ┆           ┆         ┆ a73314e73 ┆          │\n",
       "│ …          ┆ …          ┆ 000…      ┆           ┆   ┆           ┆         ┆ 794…      ┆          │\n",
       "│ 0xf939e0a0 ┆ [\"0x8c5be1 ┆ 0x0000000 ┆ 18239007  ┆ … ┆ 182       ┆ 1       ┆ 0xf939e0a ┆ ethereum │\n",
       "│ 3fb07f59a7 ┆ e5ebec7d5b ┆ 000000000 ┆           ┆   ┆           ┆         ┆ 03fb07f59 ┆          │\n",
       "│ 3314e73794 ┆ d14f71427d ┆ 000000000 ┆           ┆   ┆           ┆         ┆ a73314e73 ┆          │\n",
       "│ …          ┆ …          ┆ 000…      ┆           ┆   ┆           ┆         ┆ 794…      ┆          │\n",
       "│ 0xf939e0a0 ┆ [\"0xddf252 ┆ 0x0000000 ┆ 18291325  ┆ … ┆ 133       ┆ 1       ┆ 0xf939e0a ┆ ethereum │\n",
       "│ 3fb07f59a7 ┆ ad1be2c89b ┆ 000000000 ┆           ┆   ┆           ┆         ┆ 03fb07f59 ┆          │\n",
       "│ 3314e73794 ┆ 69c2b068fc ┆ 000000000 ┆           ┆   ┆           ┆         ┆ a73314e73 ┆          │\n",
       "│ …          ┆ …          ┆ 000…      ┆           ┆   ┆           ┆         ┆ 794…      ┆          │\n",
       "│ 0xf939e0a0 ┆ [\"0xddf252 ┆ 0x0000000 ┆ 18367547  ┆ … ┆ 12        ┆ 1       ┆ 0xf939e0a ┆ ethereum │\n",
       "│ 3fb07f59a7 ┆ ad1be2c89b ┆ 000000000 ┆           ┆   ┆           ┆         ┆ 03fb07f59 ┆          │\n",
       "│ 3314e73794 ┆ 69c2b068fc ┆ 000000000 ┆           ┆   ┆           ┆         ┆ a73314e73 ┆          │\n",
       "│ …          ┆ …          ┆ 000…      ┆           ┆   ┆           ┆         ┆ 794…      ┆          │\n",
       "│ 0xf939e0a0 ┆ [\"0xddf252 ┆ 0x0000000 ┆ 18417664  ┆ … ┆ 23        ┆ 1       ┆ 0xf939e0a ┆ ethereum │\n",
       "│ 3fb07f59a7 ┆ ad1be2c89b ┆ 000000000 ┆           ┆   ┆           ┆         ┆ 03fb07f59 ┆          │\n",
       "│ 3314e73794 ┆ 69c2b068fc ┆ 000000000 ┆           ┆   ┆           ┆         ┆ a73314e73 ┆          │\n",
       "│ …          ┆ …          ┆ 000…      ┆           ┆   ┆           ┆         ┆ 794…      ┆          │\n",
       "│ …          ┆ …          ┆ …         ┆ …         ┆ … ┆ …         ┆ …       ┆ …         ┆ …        │\n",
       "│ 0xf939e0a0 ┆ [\"0x8c5be1 ┆ 0x0000000 ┆ 18075613  ┆ … ┆ 70        ┆ 1       ┆ 0xf939e0a ┆ ethereum │\n",
       "│ 3fb07f59a7 ┆ e5ebec7d5b ┆ 000000000 ┆           ┆   ┆           ┆         ┆ 03fb07f59 ┆          │\n",
       "│ 3314e73794 ┆ d14f71427d ┆ 000000000 ┆           ┆   ┆           ┆         ┆ a73314e73 ┆          │\n",
       "│ …          ┆ …          ┆ 000…      ┆           ┆   ┆           ┆         ┆ 794…      ┆          │\n",
       "│ 0xf939e0a0 ┆ [\"0xddf252 ┆ 0x0000000 ┆ 18417599  ┆ … ┆ 10        ┆ 1       ┆ 0xf939e0a ┆ ethereum │\n",
       "│ 3fb07f59a7 ┆ ad1be2c89b ┆ 000000000 ┆           ┆   ┆           ┆         ┆ 03fb07f59 ┆          │\n",
       "│ 3314e73794 ┆ 69c2b068fc ┆ 000000000 ┆           ┆   ┆           ┆         ┆ a73314e73 ┆          │\n",
       "│ …          ┆ …          ┆ 000…      ┆           ┆   ┆           ┆         ┆ 794…      ┆          │\n",
       "│ 0xf939e0a0 ┆ [\"0xddf252 ┆ 0x0000000 ┆ 18292709  ┆ … ┆ 16        ┆ 1       ┆ 0xf939e0a ┆ ethereum │\n",
       "│ 3fb07f59a7 ┆ ad1be2c89b ┆ 000000000 ┆           ┆   ┆           ┆         ┆ 03fb07f59 ┆          │\n",
       "│ 3314e73794 ┆ 69c2b068fc ┆ 000000000 ┆           ┆   ┆           ┆         ┆ a73314e73 ┆          │\n",
       "│ …          ┆ …          ┆ 000…      ┆           ┆   ┆           ┆         ┆ 794…      ┆          │\n",
       "│ 0xf939e0a0 ┆ [\"0xddf252 ┆ 0x0000000 ┆ 18425571  ┆ … ┆ 8         ┆ 1       ┆ 0xf939e0a ┆ ethereum │\n",
       "│ 3fb07f59a7 ┆ ad1be2c89b ┆ 000000000 ┆           ┆   ┆           ┆         ┆ 03fb07f59 ┆          │\n",
       "│ 3314e73794 ┆ 69c2b068fc ┆ 000000000 ┆           ┆   ┆           ┆         ┆ a73314e73 ┆          │\n",
       "│ …          ┆ …          ┆ 000…      ┆           ┆   ┆           ┆         ┆ 794…      ┆          │\n",
       "│ 0xf939e0a0 ┆ [\"0xddf252 ┆ 0x0000000 ┆ 18325965  ┆ … ┆ 8         ┆ 1       ┆ 0xf939e0a ┆ ethereum │\n",
       "│ 3fb07f59a7 ┆ ad1be2c89b ┆ 000000000 ┆           ┆   ┆           ┆         ┆ 03fb07f59 ┆          │\n",
       "│ 3314e73794 ┆ 69c2b068fc ┆ 000000000 ┆           ┆   ┆           ┆         ┆ a73314e73 ┆          │\n",
       "│ …          ┆ …          ┆ 000…      ┆           ┆   ┆           ┆         ┆ 794…      ┆          │\n",
       "└────────────┴────────────┴───────────┴───────────┴───┴───────────┴─────────┴───────────┴──────────┘"
      ]
     },
     "execution_count": 12,
     "metadata": {},
     "output_type": "execute_result"
    }
   ],
   "source": [
    "df.filter(\n",
    "    (pl.col('blockNumber') >= 18_000_000)\n",
    "    &(pl.col('blockNumber') <= 18_500_000)\n",
    ")"
   ]
  },
  {
   "cell_type": "markdown",
   "id": "194c60d7",
   "metadata": {},
   "source": [
    "2025-10-12 17:05:38 - onchaindata.data_extraction.etherscan - INFO - Got 0xf939e0a03fb07f59a73314e73794be0e57ac1b4e - ethereum - logs - 18000000-18049999: 5697\n",
    "2025-10-12 17:05:40 - onchaindata.data_extraction.etherscan - INFO - Got 0xf939e0a03fb07f59a73314e73794be0e57ac1b4e - ethereum - logs - 18050000-18099999: 3900\n",
    "2025-10-12 17:05:42 - onchaindata.data_extraction.etherscan - INFO - Got 0xf939e0a03fb07f59a73314e73794be0e57ac1b4e - ethereum - logs - 18100000-18149999: 4931\n",
    "2025-10-12 17:05:44 - onchaindata.data_extraction.etherscan - INFO - Got 0xf939e0a03fb07f59a73314e73794be0e57ac1b4e - ethereum - logs - 18150000-18199999: 4767\n",
    "2025-10-12 17:05:46 - onchaindata.data_extraction.etherscan - INFO - Got 0xf939e0a03fb07f59a73314e73794be0e57ac1b4e - ethereum - logs - 18200000-18249999: 4974\n",
    "2025-10-12 17:05:51 - onchaindata.data_extraction.etherscan - INFO - Got 0xf939e0a03fb07f59a73314e73794be0e57ac1b4e - ethereum - logs - 18250000-18299999: 6048\n",
    "2025-10-12 17:05:58 - onchaindata.data_extraction.etherscan - INFO - Got 0xf939e0a03fb07f59a73314e73794be0e57ac1b4e - ethereum - logs - 18300000-18349999: 7349\n",
    "2025-10-12 17:06:04 - onchaindata.data_extraction.etherscan - INFO - Got 0xf939e0a03fb07f59a73314e73794be0e57ac1b4e - ethereum - logs - 18350000-18399999: 6851\n",
    "\n",
    "2025-10-12 17:06:13,191|[WARNING]|291254|131523652328512|dlt|client.py|extract_response:286|Extracted data is None for path result, returning empty list\n",
    "\n",
    "2025-10-12 17:06:13 - onchaindata.data_extraction.etherscan - INFO - Got 0xf939e0a03fb07f59a73314e73794be0e57ac1b4e - ethereum - logs - 18400000-18449999: 10000\n",
    "\n",
    "2025-10-12 17:06:23,720|[WARNING]|291254|131523652328512|dlt|client.py|extract_response:286|Extracted data is None for path result, returning empty list\n",
    "\n",
    "2025-10-12 17:06:23 - onchaindata.data_extraction.etherscan - INFO - Got 0xf939e0a03fb07f59a73314e73794be0e57ac1b4e - ethereum - logs - 18450000-18499999: 9636"
   ]
  },
  {
   "cell_type": "code",
   "execution_count": 13,
   "id": "87aeb520",
   "metadata": {},
   "outputs": [
    {
     "name": "stdout",
     "output_type": "stream",
     "text": [
      "22894 32894\n",
      "32894 42894\n",
      "42894 52894\n",
      "52894 62894\n",
      "62894 72894\n",
      "---\n",
      "72894 72960\n"
     ]
    }
   ],
   "source": [
    "# for chunk_start in range(18400000, 18450000 + 1, 50000):\n",
    "#     print(chunk_start)\n",
    "from_block = 22894\n",
    "end_block  = 72960\n",
    "block_chunk_size = 10000\n",
    "for chunk_start in range(from_block, end_block - block_chunk_size + 1, block_chunk_size):\n",
    "    chunk_end = min(chunk_start + block_chunk_size, end_block)\n",
    "    print(chunk_start, chunk_end)\n",
    "\n",
    "print(\"---\")\n",
    "print(chunk_end, end_block)"
   ]
  },
  {
   "cell_type": "code",
   "execution_count": 1,
   "id": "267d6a58",
   "metadata": {},
   "outputs": [
    {
     "data": {
      "text/plain": [
       "-50066"
      ]
     },
     "execution_count": 1,
     "metadata": {},
     "output_type": "execute_result"
    }
   ],
   "source": [
    "23522894 - 23572960"
   ]
  },
  {
   "cell_type": "code",
   "execution_count": 2,
   "id": "0dfbb913",
   "metadata": {},
   "outputs": [
    {
     "data": {
      "text/plain": [
       "-10000"
      ]
     },
     "execution_count": 2,
     "metadata": {},
     "output_type": "execute_result"
    }
   ],
   "source": [
    "23552894-23562894"
   ]
  },
  {
   "cell_type": "code",
   "execution_count": 3,
   "id": "eda966bc",
   "metadata": {},
   "outputs": [
    {
     "data": {
      "text/plain": [
       "'0xf939e0a03fb07f59a73314e73794be0e57ac1b4e'"
      ]
     },
     "execution_count": 3,
     "metadata": {},
     "output_type": "execute_result"
    }
   ],
   "source": [
    "'0xf939E0A03FB07F59A73314E73794Be0E57ac1b4E'.lower()\n"
   ]
  },
  {
   "cell_type": "code",
   "execution_count": 19,
   "id": "fa71c84f",
   "metadata": {},
   "outputs": [
    {
     "data": {
      "text/plain": [
       "-14302"
      ]
     },
     "execution_count": 19,
     "metadata": {},
     "output_type": "execute_result"
    }
   ],
   "source": [
    "23558903-23573205"
   ]
  }
 ],
 "metadata": {
  "kernelspec": {
   "display_name": ".venv",
   "language": "python",
   "name": "python3"
  },
  "language_info": {
   "codemirror_mode": {
    "name": "ipython",
    "version": 3
   },
   "file_extension": ".py",
   "mimetype": "text/x-python",
   "name": "python",
   "nbconvert_exporter": "python",
   "pygments_lexer": "ipython3",
   "version": "3.11.11"
  }
 },
 "nbformat": 4,
 "nbformat_minor": 5
}
